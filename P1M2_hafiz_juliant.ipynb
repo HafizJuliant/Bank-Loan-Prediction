{
 "cells": [
  {
   "cell_type": "markdown",
   "metadata": {},
   "source": [
    "# Perkenalan"
   ]
  },
  {
   "cell_type": "markdown",
   "metadata": {},
   "source": [
    "Milestone 2\n",
    "\n",
    "Nama  : M Hafiz Juliant\n",
    "\n",
    "Batch : RMT-028\n",
    "\n",
    "Dataset : Loan Status Prediction (https://www.kaggle.com/datasets/bhavikjikadara/loan-status-prediction/data)\n",
    "\n",
    "Objective : Project ini dibuat untuk membuat model dari 5 jenis model yaitu K-Nearest Neighbors (KNN), Support Vector Machine (SVM), Random Forest Classifier, Decision Tree Classifier, Gradient Boosting. Model ini digunakan untuk memprediksi Status Pinjaman di Bank (Loan Status)"
   ]
  },
  {
   "cell_type": "markdown",
   "metadata": {},
   "source": [
    "## Dataset Information\n",
    "\n",
    "| Variable | Definition |\n",
    "| --- | --- |\n",
    "|Loan_ID| A unique loan ID.|\n",
    "|Gender| Either male or female.|\n",
    "|Married| Weather Married(yes) or Not Marttied(No).|\n",
    "|Dependents| Number of persons depending on the client.|\n",
    "|Education| Applicant Education(Graduate or Undergraduate).|\n",
    "|Self_Employed| Self-employed (Yes/No).|\n",
    "|ApplicantIncome| Applicant income.|\n",
    "|CoapplicantIncome| Co-applicant income.|\n",
    "|LoanAmount| Loan amount in thousands.|\n",
    "|Loan_Amount_Term| Terms of the loan in months.|\n",
    "|Credit_History| Credit history meets guidelines.|\n",
    "|Property_Area| Applicants are living either Urban, Semi-Urban or Rural.|\n",
    "|Loan_Status| Loan approved (Y/N)|\n"
   ]
  },
  {
   "cell_type": "markdown",
   "metadata": {},
   "source": [
    "# Import Library"
   ]
  },
  {
   "cell_type": "code",
   "execution_count": 1,
   "metadata": {},
   "outputs": [],
   "source": [
    "import pandas as pd\n",
    "import numpy as np\n",
    "import matplotlib.pyplot as plt\n",
    "import seaborn as sns\n",
    "import pickle\n",
    "import json\n",
    "from phik import phik_matrix\n",
    "from sklearn.neighbors import KNeighborsClassifier\n",
    "from sklearn.svm import SVC\n",
    "from sklearn.model_selection import train_test_split, cross_val_score, StratifiedKFold, RandomizedSearchCV, GridSearchCV\n",
    "from sklearn.preprocessing import StandardScaler, LabelEncoder, OrdinalEncoder, MinMaxScaler, OneHotEncoder\n",
    "from sklearn.metrics import classification_report, f1_score, ConfusionMatrixDisplay, confusion_matrix, accuracy_score, precision_score, recall_score\n",
    "from sklearn.pipeline import Pipeline, make_pipeline\n",
    "from sklearn.compose import ColumnTransformer\n",
    "from sklearn.tree import DecisionTreeClassifier\n",
    "from sklearn.ensemble import RandomForestClassifier, GradientBoostingClassifier\n",
    "from sklearn.datasets import make_classification\n",
    "\n",
    "import warnings\n",
    "warnings.filterwarnings('ignore')"
   ]
  },
  {
   "cell_type": "markdown",
   "metadata": {},
   "source": [
    "# Data Loading"
   ]
  },
  {
   "cell_type": "code",
   "execution_count": 2,
   "metadata": {},
   "outputs": [],
   "source": [
    "#load file\n",
    "\n",
    "df = pd.read_csv('loan_data.csv')\n",
    "\n",
    "df_ori = df.copy()"
   ]
  },
  {
   "cell_type": "code",
   "execution_count": 3,
   "metadata": {},
   "outputs": [
    {
     "data": {
      "text/html": [
       "<div>\n",
       "<style scoped>\n",
       "    .dataframe tbody tr th:only-of-type {\n",
       "        vertical-align: middle;\n",
       "    }\n",
       "\n",
       "    .dataframe tbody tr th {\n",
       "        vertical-align: top;\n",
       "    }\n",
       "\n",
       "    .dataframe thead th {\n",
       "        text-align: right;\n",
       "    }\n",
       "</style>\n",
       "<table border=\"1\" class=\"dataframe\">\n",
       "  <thead>\n",
       "    <tr style=\"text-align: right;\">\n",
       "      <th></th>\n",
       "      <th>Loan_ID</th>\n",
       "      <th>Gender</th>\n",
       "      <th>Married</th>\n",
       "      <th>Dependents</th>\n",
       "      <th>Education</th>\n",
       "      <th>Self_Employed</th>\n",
       "      <th>ApplicantIncome</th>\n",
       "      <th>CoapplicantIncome</th>\n",
       "      <th>LoanAmount</th>\n",
       "      <th>Loan_Amount_Term</th>\n",
       "      <th>Credit_History</th>\n",
       "      <th>Property_Area</th>\n",
       "      <th>Loan_Status</th>\n",
       "    </tr>\n",
       "  </thead>\n",
       "  <tbody>\n",
       "    <tr>\n",
       "      <th>0</th>\n",
       "      <td>LP001003</td>\n",
       "      <td>Male</td>\n",
       "      <td>Yes</td>\n",
       "      <td>1</td>\n",
       "      <td>Graduate</td>\n",
       "      <td>No</td>\n",
       "      <td>4583</td>\n",
       "      <td>1508.0</td>\n",
       "      <td>128.0</td>\n",
       "      <td>360.0</td>\n",
       "      <td>1.0</td>\n",
       "      <td>Rural</td>\n",
       "      <td>N</td>\n",
       "    </tr>\n",
       "    <tr>\n",
       "      <th>1</th>\n",
       "      <td>LP001005</td>\n",
       "      <td>Male</td>\n",
       "      <td>Yes</td>\n",
       "      <td>0</td>\n",
       "      <td>Graduate</td>\n",
       "      <td>Yes</td>\n",
       "      <td>3000</td>\n",
       "      <td>0.0</td>\n",
       "      <td>66.0</td>\n",
       "      <td>360.0</td>\n",
       "      <td>1.0</td>\n",
       "      <td>Urban</td>\n",
       "      <td>Y</td>\n",
       "    </tr>\n",
       "    <tr>\n",
       "      <th>2</th>\n",
       "      <td>LP001006</td>\n",
       "      <td>Male</td>\n",
       "      <td>Yes</td>\n",
       "      <td>0</td>\n",
       "      <td>Not Graduate</td>\n",
       "      <td>No</td>\n",
       "      <td>2583</td>\n",
       "      <td>2358.0</td>\n",
       "      <td>120.0</td>\n",
       "      <td>360.0</td>\n",
       "      <td>1.0</td>\n",
       "      <td>Urban</td>\n",
       "      <td>Y</td>\n",
       "    </tr>\n",
       "    <tr>\n",
       "      <th>3</th>\n",
       "      <td>LP001008</td>\n",
       "      <td>Male</td>\n",
       "      <td>No</td>\n",
       "      <td>0</td>\n",
       "      <td>Graduate</td>\n",
       "      <td>No</td>\n",
       "      <td>6000</td>\n",
       "      <td>0.0</td>\n",
       "      <td>141.0</td>\n",
       "      <td>360.0</td>\n",
       "      <td>1.0</td>\n",
       "      <td>Urban</td>\n",
       "      <td>Y</td>\n",
       "    </tr>\n",
       "    <tr>\n",
       "      <th>4</th>\n",
       "      <td>LP001013</td>\n",
       "      <td>Male</td>\n",
       "      <td>Yes</td>\n",
       "      <td>0</td>\n",
       "      <td>Not Graduate</td>\n",
       "      <td>No</td>\n",
       "      <td>2333</td>\n",
       "      <td>1516.0</td>\n",
       "      <td>95.0</td>\n",
       "      <td>360.0</td>\n",
       "      <td>1.0</td>\n",
       "      <td>Urban</td>\n",
       "      <td>Y</td>\n",
       "    </tr>\n",
       "  </tbody>\n",
       "</table>\n",
       "</div>"
      ],
      "text/plain": [
       "    Loan_ID Gender Married Dependents     Education Self_Employed  \\\n",
       "0  LP001003   Male     Yes          1      Graduate            No   \n",
       "1  LP001005   Male     Yes          0      Graduate           Yes   \n",
       "2  LP001006   Male     Yes          0  Not Graduate            No   \n",
       "3  LP001008   Male      No          0      Graduate            No   \n",
       "4  LP001013   Male     Yes          0  Not Graduate            No   \n",
       "\n",
       "   ApplicantIncome  CoapplicantIncome  LoanAmount  Loan_Amount_Term  \\\n",
       "0             4583             1508.0       128.0             360.0   \n",
       "1             3000                0.0        66.0             360.0   \n",
       "2             2583             2358.0       120.0             360.0   \n",
       "3             6000                0.0       141.0             360.0   \n",
       "4             2333             1516.0        95.0             360.0   \n",
       "\n",
       "   Credit_History Property_Area Loan_Status  \n",
       "0             1.0         Rural           N  \n",
       "1             1.0         Urban           Y  \n",
       "2             1.0         Urban           Y  \n",
       "3             1.0         Urban           Y  \n",
       "4             1.0         Urban           Y  "
      ]
     },
     "execution_count": 3,
     "metadata": {},
     "output_type": "execute_result"
    }
   ],
   "source": [
    "#Menampilkan 5 data teratas\n",
    "df.head(5)"
   ]
  },
  {
   "cell_type": "code",
   "execution_count": 4,
   "metadata": {},
   "outputs": [
    {
     "data": {
      "text/html": [
       "<div>\n",
       "<style scoped>\n",
       "    .dataframe tbody tr th:only-of-type {\n",
       "        vertical-align: middle;\n",
       "    }\n",
       "\n",
       "    .dataframe tbody tr th {\n",
       "        vertical-align: top;\n",
       "    }\n",
       "\n",
       "    .dataframe thead th {\n",
       "        text-align: right;\n",
       "    }\n",
       "</style>\n",
       "<table border=\"1\" class=\"dataframe\">\n",
       "  <thead>\n",
       "    <tr style=\"text-align: right;\">\n",
       "      <th></th>\n",
       "      <th>Loan_ID</th>\n",
       "      <th>Gender</th>\n",
       "      <th>Married</th>\n",
       "      <th>Dependents</th>\n",
       "      <th>Education</th>\n",
       "      <th>Self_Employed</th>\n",
       "      <th>ApplicantIncome</th>\n",
       "      <th>CoapplicantIncome</th>\n",
       "      <th>LoanAmount</th>\n",
       "      <th>Loan_Amount_Term</th>\n",
       "      <th>Credit_History</th>\n",
       "      <th>Property_Area</th>\n",
       "      <th>Loan_Status</th>\n",
       "    </tr>\n",
       "  </thead>\n",
       "  <tbody>\n",
       "    <tr>\n",
       "      <th>376</th>\n",
       "      <td>LP002953</td>\n",
       "      <td>Male</td>\n",
       "      <td>Yes</td>\n",
       "      <td>3+</td>\n",
       "      <td>Graduate</td>\n",
       "      <td>No</td>\n",
       "      <td>5703</td>\n",
       "      <td>0.0</td>\n",
       "      <td>128.0</td>\n",
       "      <td>360.0</td>\n",
       "      <td>1.0</td>\n",
       "      <td>Urban</td>\n",
       "      <td>Y</td>\n",
       "    </tr>\n",
       "    <tr>\n",
       "      <th>377</th>\n",
       "      <td>LP002974</td>\n",
       "      <td>Male</td>\n",
       "      <td>Yes</td>\n",
       "      <td>0</td>\n",
       "      <td>Graduate</td>\n",
       "      <td>No</td>\n",
       "      <td>3232</td>\n",
       "      <td>1950.0</td>\n",
       "      <td>108.0</td>\n",
       "      <td>360.0</td>\n",
       "      <td>1.0</td>\n",
       "      <td>Rural</td>\n",
       "      <td>Y</td>\n",
       "    </tr>\n",
       "    <tr>\n",
       "      <th>378</th>\n",
       "      <td>LP002978</td>\n",
       "      <td>Female</td>\n",
       "      <td>No</td>\n",
       "      <td>0</td>\n",
       "      <td>Graduate</td>\n",
       "      <td>No</td>\n",
       "      <td>2900</td>\n",
       "      <td>0.0</td>\n",
       "      <td>71.0</td>\n",
       "      <td>360.0</td>\n",
       "      <td>1.0</td>\n",
       "      <td>Rural</td>\n",
       "      <td>Y</td>\n",
       "    </tr>\n",
       "    <tr>\n",
       "      <th>379</th>\n",
       "      <td>LP002979</td>\n",
       "      <td>Male</td>\n",
       "      <td>Yes</td>\n",
       "      <td>3+</td>\n",
       "      <td>Graduate</td>\n",
       "      <td>No</td>\n",
       "      <td>4106</td>\n",
       "      <td>0.0</td>\n",
       "      <td>40.0</td>\n",
       "      <td>180.0</td>\n",
       "      <td>1.0</td>\n",
       "      <td>Rural</td>\n",
       "      <td>Y</td>\n",
       "    </tr>\n",
       "    <tr>\n",
       "      <th>380</th>\n",
       "      <td>LP002990</td>\n",
       "      <td>Female</td>\n",
       "      <td>No</td>\n",
       "      <td>0</td>\n",
       "      <td>Graduate</td>\n",
       "      <td>Yes</td>\n",
       "      <td>4583</td>\n",
       "      <td>0.0</td>\n",
       "      <td>133.0</td>\n",
       "      <td>360.0</td>\n",
       "      <td>0.0</td>\n",
       "      <td>Semiurban</td>\n",
       "      <td>N</td>\n",
       "    </tr>\n",
       "  </tbody>\n",
       "</table>\n",
       "</div>"
      ],
      "text/plain": [
       "      Loan_ID  Gender Married Dependents Education Self_Employed  \\\n",
       "376  LP002953    Male     Yes         3+  Graduate            No   \n",
       "377  LP002974    Male     Yes          0  Graduate            No   \n",
       "378  LP002978  Female      No          0  Graduate            No   \n",
       "379  LP002979    Male     Yes         3+  Graduate            No   \n",
       "380  LP002990  Female      No          0  Graduate           Yes   \n",
       "\n",
       "     ApplicantIncome  CoapplicantIncome  LoanAmount  Loan_Amount_Term  \\\n",
       "376             5703                0.0       128.0             360.0   \n",
       "377             3232             1950.0       108.0             360.0   \n",
       "378             2900                0.0        71.0             360.0   \n",
       "379             4106                0.0        40.0             180.0   \n",
       "380             4583                0.0       133.0             360.0   \n",
       "\n",
       "     Credit_History Property_Area Loan_Status  \n",
       "376             1.0         Urban           Y  \n",
       "377             1.0         Rural           Y  \n",
       "378             1.0         Rural           Y  \n",
       "379             1.0         Rural           Y  \n",
       "380             0.0     Semiurban           N  "
      ]
     },
     "execution_count": 4,
     "metadata": {},
     "output_type": "execute_result"
    }
   ],
   "source": [
    "#Menampilkan 5 data terbawah\n",
    "df.tail(5)"
   ]
  },
  {
   "cell_type": "markdown",
   "metadata": {},
   "source": [
    "# Exploratory Data Analys"
   ]
  },
  {
   "cell_type": "code",
   "execution_count": 5,
   "metadata": {},
   "outputs": [
    {
     "name": "stdout",
     "output_type": "stream",
     "text": [
      "<class 'pandas.core.frame.DataFrame'>\n",
      "RangeIndex: 381 entries, 0 to 380\n",
      "Data columns (total 13 columns):\n",
      " #   Column             Non-Null Count  Dtype  \n",
      "---  ------             --------------  -----  \n",
      " 0   Loan_ID            381 non-null    object \n",
      " 1   Gender             376 non-null    object \n",
      " 2   Married            381 non-null    object \n",
      " 3   Dependents         373 non-null    object \n",
      " 4   Education          381 non-null    object \n",
      " 5   Self_Employed      360 non-null    object \n",
      " 6   ApplicantIncome    381 non-null    int64  \n",
      " 7   CoapplicantIncome  381 non-null    float64\n",
      " 8   LoanAmount         381 non-null    float64\n",
      " 9   Loan_Amount_Term   370 non-null    float64\n",
      " 10  Credit_History     351 non-null    float64\n",
      " 11  Property_Area      381 non-null    object \n",
      " 12  Loan_Status        381 non-null    object \n",
      "dtypes: float64(4), int64(1), object(8)\n",
      "memory usage: 38.8+ KB\n"
     ]
    }
   ],
   "source": [
    "#Menampilkan informasi data\n",
    "df.info()"
   ]
  },
  {
   "cell_type": "code",
   "execution_count": 6,
   "metadata": {},
   "outputs": [
    {
     "data": {
      "text/html": [
       "<div>\n",
       "<style scoped>\n",
       "    .dataframe tbody tr th:only-of-type {\n",
       "        vertical-align: middle;\n",
       "    }\n",
       "\n",
       "    .dataframe tbody tr th {\n",
       "        vertical-align: top;\n",
       "    }\n",
       "\n",
       "    .dataframe thead th {\n",
       "        text-align: right;\n",
       "    }\n",
       "</style>\n",
       "<table border=\"1\" class=\"dataframe\">\n",
       "  <thead>\n",
       "    <tr style=\"text-align: right;\">\n",
       "      <th></th>\n",
       "      <th>ApplicantIncome</th>\n",
       "      <th>CoapplicantIncome</th>\n",
       "      <th>LoanAmount</th>\n",
       "      <th>Loan_Amount_Term</th>\n",
       "      <th>Credit_History</th>\n",
       "    </tr>\n",
       "  </thead>\n",
       "  <tbody>\n",
       "    <tr>\n",
       "      <th>count</th>\n",
       "      <td>381.000000</td>\n",
       "      <td>381.000000</td>\n",
       "      <td>381.000000</td>\n",
       "      <td>370.000000</td>\n",
       "      <td>351.000000</td>\n",
       "    </tr>\n",
       "    <tr>\n",
       "      <th>mean</th>\n",
       "      <td>3579.845144</td>\n",
       "      <td>1277.275381</td>\n",
       "      <td>104.986877</td>\n",
       "      <td>340.864865</td>\n",
       "      <td>0.837607</td>\n",
       "    </tr>\n",
       "    <tr>\n",
       "      <th>std</th>\n",
       "      <td>1419.813818</td>\n",
       "      <td>2340.818114</td>\n",
       "      <td>28.358464</td>\n",
       "      <td>68.549257</td>\n",
       "      <td>0.369338</td>\n",
       "    </tr>\n",
       "    <tr>\n",
       "      <th>min</th>\n",
       "      <td>150.000000</td>\n",
       "      <td>0.000000</td>\n",
       "      <td>9.000000</td>\n",
       "      <td>12.000000</td>\n",
       "      <td>0.000000</td>\n",
       "    </tr>\n",
       "    <tr>\n",
       "      <th>25%</th>\n",
       "      <td>2600.000000</td>\n",
       "      <td>0.000000</td>\n",
       "      <td>90.000000</td>\n",
       "      <td>360.000000</td>\n",
       "      <td>1.000000</td>\n",
       "    </tr>\n",
       "    <tr>\n",
       "      <th>50%</th>\n",
       "      <td>3333.000000</td>\n",
       "      <td>983.000000</td>\n",
       "      <td>110.000000</td>\n",
       "      <td>360.000000</td>\n",
       "      <td>1.000000</td>\n",
       "    </tr>\n",
       "    <tr>\n",
       "      <th>75%</th>\n",
       "      <td>4288.000000</td>\n",
       "      <td>2016.000000</td>\n",
       "      <td>127.000000</td>\n",
       "      <td>360.000000</td>\n",
       "      <td>1.000000</td>\n",
       "    </tr>\n",
       "    <tr>\n",
       "      <th>max</th>\n",
       "      <td>9703.000000</td>\n",
       "      <td>33837.000000</td>\n",
       "      <td>150.000000</td>\n",
       "      <td>480.000000</td>\n",
       "      <td>1.000000</td>\n",
       "    </tr>\n",
       "  </tbody>\n",
       "</table>\n",
       "</div>"
      ],
      "text/plain": [
       "       ApplicantIncome  CoapplicantIncome  LoanAmount  Loan_Amount_Term  \\\n",
       "count       381.000000         381.000000  381.000000        370.000000   \n",
       "mean       3579.845144        1277.275381  104.986877        340.864865   \n",
       "std        1419.813818        2340.818114   28.358464         68.549257   \n",
       "min         150.000000           0.000000    9.000000         12.000000   \n",
       "25%        2600.000000           0.000000   90.000000        360.000000   \n",
       "50%        3333.000000         983.000000  110.000000        360.000000   \n",
       "75%        4288.000000        2016.000000  127.000000        360.000000   \n",
       "max        9703.000000       33837.000000  150.000000        480.000000   \n",
       "\n",
       "       Credit_History  \n",
       "count      351.000000  \n",
       "mean         0.837607  \n",
       "std          0.369338  \n",
       "min          0.000000  \n",
       "25%          1.000000  \n",
       "50%          1.000000  \n",
       "75%          1.000000  \n",
       "max          1.000000  "
      ]
     },
     "execution_count": 6,
     "metadata": {},
     "output_type": "execute_result"
    }
   ],
   "source": [
    "df.describe()"
   ]
  },
  {
   "cell_type": "code",
   "execution_count": 7,
   "metadata": {},
   "outputs": [
    {
     "data": {
      "text/plain": [
       "Loan_ID               0\n",
       "Gender                5\n",
       "Married               0\n",
       "Dependents            8\n",
       "Education             0\n",
       "Self_Employed        21\n",
       "ApplicantIncome       0\n",
       "CoapplicantIncome     0\n",
       "LoanAmount            0\n",
       "Loan_Amount_Term     11\n",
       "Credit_History       30\n",
       "Property_Area         0\n",
       "Loan_Status           0\n",
       "dtype: int64"
      ]
     },
     "execution_count": 7,
     "metadata": {},
     "output_type": "execute_result"
    }
   ],
   "source": [
    "df.isna().sum()"
   ]
  },
  {
   "cell_type": "code",
   "execution_count": 8,
   "metadata": {},
   "outputs": [
    {
     "data": {
      "text/plain": [
       "0"
      ]
     },
     "execution_count": 8,
     "metadata": {},
     "output_type": "execute_result"
    }
   ],
   "source": [
    "df.duplicated().sum()"
   ]
  },
  {
   "cell_type": "code",
   "execution_count": 9,
   "metadata": {},
   "outputs": [
    {
     "data": {
      "text/plain": [
       "Loan_ID              381\n",
       "Gender                 2\n",
       "Married                2\n",
       "Dependents             4\n",
       "Education              2\n",
       "Self_Employed          2\n",
       "ApplicantIncome      322\n",
       "CoapplicantIncome    182\n",
       "LoanAmount           101\n",
       "Loan_Amount_Term      10\n",
       "Credit_History         2\n",
       "Property_Area          3\n",
       "Loan_Status            2\n",
       "dtype: int64"
      ]
     },
     "execution_count": 9,
     "metadata": {},
     "output_type": "execute_result"
    }
   ],
   "source": [
    "df.nunique()"
   ]
  },
  {
   "cell_type": "markdown",
   "metadata": {},
   "source": [
    "Insight :\n",
    "- Terdapat 381 baris dan 13 kolom\n",
    "- Terdapat 4 kolom numerik , 8 kolom categorik\n",
    "- Terdapat missing value pada kolom 'Gender','Self_Employed','Loan_Amount_Term' dan 'Credit_History'\n",
    "- Tidak terdapat kolom yang duplikat"
   ]
  },
  {
   "cell_type": "code",
   "execution_count": 10,
   "metadata": {},
   "outputs": [],
   "source": [
    "# Mengisi data nan dengan modus dan mengubah type data\n",
    "df['Gender'] = df['Gender'].fillna(df['Gender'].mode().iloc[0])\n",
    "df['Self_Employed'] = df['Self_Employed'].fillna(df['Self_Employed'].mode().iloc[0])\n",
    "df['Loan_Amount_Term'] = df['Loan_Amount_Term'].fillna(df['Loan_Amount_Term'].mode().iloc[0]).astype(int)\n",
    "df['Credit_History'] = df['Credit_History'].fillna(df['Credit_History'].mode().iloc[0]).astype(int)\n",
    "\n",
    "df['Dependents'] = df['Dependents'].replace(['0', '1', '2', '3+'], [0,1,2,3,])\n",
    "df['Dependents'] = df['Dependents'].fillna(df['Dependents'].mode().iloc[0])\n",
    "\n",
    "df['CoapplicantIncome'] = df['CoapplicantIncome'].astype(int)\n",
    "df['LoanAmount'] = df['LoanAmount'].astype(int)"
   ]
  },
  {
   "cell_type": "code",
   "execution_count": 11,
   "metadata": {},
   "outputs": [],
   "source": [
    "# Mengubah data cat menjadi numerical label\n",
    "def cat_to_num(df, c_var):\n",
    "    for i in c_var:\n",
    "        uniques_value = df[i].unique()\n",
    "        df[i].replace(uniques_value, [0, 1], inplace=True)\n",
    "\n",
    "    for i in ['Property_Area']:\n",
    "        uniques_value = df[i].unique()\n",
    "        df[i].replace(uniques_value, [0, 1, 3], inplace=True)\n",
    "\n",
    "c_variables = ['Gender', 'Married', 'Education', 'Education','Self_Employed', 'Loan_Status']\n",
    "\n",
    "cat_to_num(df, c_variables)"
   ]
  },
  {
   "cell_type": "code",
   "execution_count": 12,
   "metadata": {},
   "outputs": [],
   "source": [
    "#Menyimpan file untuk digunakan pada deployment\n",
    "df.to_csv('deploy.csv', index=False)"
   ]
  },
  {
   "cell_type": "code",
   "execution_count": 13,
   "metadata": {},
   "outputs": [
    {
     "data": {
      "image/png": "[encoded data removed]",
      "text/plain": [
       "<Figure size 1000x800 with 2 Axes>"
      ]
     },
     "metadata": {},
     "output_type": "display_data"
    }
   ],
   "source": [
    "# Membuat plot correlation matrix\n",
    "correlation_matrix = df.drop('Loan_ID', axis=1).corr()\n",
    "\n",
    "plt.figure(figsize=(10, 8))\n",
    "heatmap = sns.heatmap(correlation_matrix, annot=True, cmap='coolwarm', fmt=\".2f\", linewidths=.5, annot_kws={\"size\": 10})\n",
    "heatmap.set_title(\"Correlation Matrix Heatmap\", fontsize=16)\n",
    "cbar = heatmap.collections[0].colorbar\n",
    "cbar.set_label('Correlation', rotation=270, labelpad=15)\n",
    "\n",
    "plt.show()"
   ]
  },
  {
   "cell_type": "code",
   "execution_count": 14,
   "metadata": {},
   "outputs": [
    {
     "data": {
      "image/png": "[encoded data removed]",
      "text/plain": [
       "<Figure size 600x600 with 1 Axes>"
      ]
     },
     "metadata": {},
     "output_type": "display_data"
    }
   ],
   "source": [
    "#Menampilkan distribusi loan_status\n",
    "plt.figure(figsize=(6, 6))\n",
    "sns.barplot(x=df_ori['Loan_Status'].value_counts().index, y=df_ori['Loan_Status'].value_counts().values, palette='husl')\n",
    "plt.title('Distribution of Loan Status')\n",
    "plt.show()\n",
    "\n"
   ]
  },
  {
   "cell_type": "markdown",
   "metadata": {},
   "source": [
    "Lebih dari setengah proposal peminjaman dari peminjam diterima dengan perbandingan hampir 3:1"
   ]
  },
  {
   "cell_type": "code",
   "execution_count": 15,
   "metadata": {},
   "outputs": [
    {
     "data": {
      "image/png": "[encoded data removed]",
      "text/plain": [
       "<Figure size 1500x800 with 2 Axes>"
      ]
     },
     "metadata": {},
     "output_type": "display_data"
    }
   ],
   "source": [
    "# Mengatur ukuran gambar\n",
    "plt.figure(figsize=(15, 8))\n",
    "\n",
    "# Menampilkan plot untuk Gender dan Married\n",
    "plt.subplot(1, 2, 1)\n",
    "sns.countplot(data=df_ori, x='Gender', hue='Married', palette='husl')\n",
    "plt.title('Gender and Married')\n",
    "\n",
    "# Menampilkan plot untuk Gender dan Loan_Status\n",
    "plt.subplot(1, 2, 2)\n",
    "sns.countplot(data=df_ori, x='Gender', hue='Loan_Status', palette='husl')\n",
    "plt.title('Gender and Loan Status')\n",
    "\n",
    "# Menyesuaikan tata letak\n",
    "plt.tight_layout()\n",
    "plt.show()"
   ]
  },
  {
   "cell_type": "code",
   "execution_count": 16,
   "metadata": {},
   "outputs": [
    {
     "data": {
      "image/png": "[encoded data removed]",
      "text/plain": [
       "<Figure size 1500x800 with 2 Axes>"
      ]
     },
     "metadata": {},
     "output_type": "display_data"
    }
   ],
   "source": [
    "# Mengatur ukuran gambar\n",
    "plt.figure(figsize=(15, 8))\n",
    "\n",
    "# Menampilkan plot untuk Gender dan Married\n",
    "plt.subplot(1, 2, 1)\n",
    "sns.countplot(data=df_ori, x='Property_Area', hue='Education', palette='husl')\n",
    "plt.title('Property_Area and Education')\n",
    "\n",
    "# Menampilkan plot untuk Gender dan Loan_Status\n",
    "plt.subplot(1, 2, 2)\n",
    "sns.countplot(data=df_ori, x='Education', hue='Loan_Status', palette='husl')\n",
    "plt.title('Education and Loan Status')\n",
    "\n",
    "# Menyesuaikan tata letak\n",
    "plt.tight_layout()\n",
    "plt.show()"
   ]
  },
  {
   "cell_type": "code",
   "execution_count": 17,
   "metadata": {},
   "outputs": [
    {
     "name": "stdout",
     "output_type": "stream",
     "text": [
      "Income_Category\n",
      "High      189\n",
      "Low       100\n",
      "Medium     92\n",
      "Name: count, dtype: int64\n"
     ]
    },
    {
     "data": {
      "image/png": "[encoded data removed]",
      "text/plain": [
       "<Figure size 800x600 with 1 Axes>"
      ]
     },
     "metadata": {},
     "output_type": "display_data"
    }
   ],
   "source": [
    "# Hitung kuartil dari pendapatan\n",
    "income_qtiles = df_ori['ApplicantIncome'].quantile([0.25, 0.5, 0.75])\n",
    "\n",
    "# Definisikan batas kuartil untuk kategori pendapatan\n",
    "low_income = income_qtiles[0.25]\n",
    "medium_income = income_qtiles[0.5]\n",
    "high_income = income_qtiles[0.75]\n",
    "\n",
    "# Membuat fungsi untuk mengkategorikan pendapatan\n",
    "def categorize_income(income):\n",
    "    if income <= low_income:\n",
    "        return 'Low'\n",
    "    elif income <= medium_income:\n",
    "        return 'Medium'\n",
    "    else:\n",
    "        return 'High'\n",
    "\n",
    "# Menambahkan kolom 'Income_Category' ke DataFrame\n",
    "df_ori['Income_Category'] = df_ori['ApplicantIncome'].apply(categorize_income)\n",
    "\n",
    "# Memeriksa distribusi kategori pendapatan\n",
    "print(df_ori['Income_Category'].value_counts())\n",
    "\n",
    "# Visualisasi distribusi kategori pendapatan\n",
    "plt.figure(figsize=(8, 6))\n",
    "sns.countplot(x='Income_Category', data=df_ori, order=['Low', 'Medium', 'High'], hue='Loan_Status', palette='husl')\n",
    "plt.title('Distribution of Income Categories')\n",
    "plt.xlabel('Income Category')\n",
    "plt.ylabel('Count')\n",
    "plt.show()"
   ]
  },
  {
   "cell_type": "code",
   "execution_count": 18,
   "metadata": {},
   "outputs": [
    {
     "data": {
      "image/png": "[encoded data removed]",
      "text/plain": [
       "<Figure size 1500x800 with 2 Axes>"
      ]
     },
     "metadata": {},
     "output_type": "display_data"
    }
   ],
   "source": [
    "plt.figure(figsize=(15, 8))\n",
    "\n",
    "plt.subplot(1,2,1)\n",
    "sns.countplot(data=df_ori, x='Loan_Amount_Term', hue='Loan_Status', palette=('husl'))\n",
    "plt.title('Loan Amount Term and Loan Status')\n",
    "plt.xlabel('Loan Amount Term (months)')\n",
    "\n",
    "plt.subplot(1,2,2)\n",
    "sns.barplot(data=df, x='Loan_Amount_Term', y='LoanAmount', palette='husl', alpha=0.6)\n",
    "plt.title('Loan Amount vs Loan Amount Term')\n",
    "plt.xlabel('Loan Amount Term (months)')\n",
    "plt.ylabel('Loan Amount ')\n",
    "\n",
    "plt.tight_layout()\n",
    "plt.show()"
   ]
  },
  {
   "cell_type": "code",
   "execution_count": 19,
   "metadata": {},
   "outputs": [
    {
     "data": {
      "image/png": "[encoded data removed]",
      "text/plain": [
       "<Figure size 800x600 with 1 Axes>"
      ]
     },
     "metadata": {},
     "output_type": "display_data"
    }
   ],
   "source": [
    "Credit_Hist = df_ori['Credit_History'].replace({0.0: 'No', 1.0: 'Yes'})\n",
    "\n",
    "plt.figure(figsize=(8, 6))\n",
    "sns.countplot(data=df_ori, x=Credit_Hist, hue='Loan_Status', palette='husl')\n",
    "plt.title('Credit History and Loan Status')\n",
    "plt.xlabel('Credit History')\n",
    "plt.ylabel('Count')\n",
    "plt.show()"
   ]
  },
  {
   "cell_type": "code",
   "execution_count": 20,
   "metadata": {},
   "outputs": [
    {
     "data": {
      "text/plain": [
       "Text(0.5, 1.0, 'Distribution of Dependents')"
      ]
     },
     "execution_count": 20,
     "metadata": {},
     "output_type": "execute_result"
    },
    {
     "data": {
      "image/png": "[encoded data removed]",
      "text/plain": [
       "<Figure size 1500x800 with 1 Axes>"
      ]
     },
     "metadata": {},
     "output_type": "display_data"
    }
   ],
   "source": [
    "plt.figure(figsize=(15, 8))\n",
    "sns.countplot(data=df_ori, x='Dependents', hue='Loan_Status', palette='husl')\n",
    "plt.title('Distribution of Dependents')"
   ]
  },
  {
   "cell_type": "code",
   "execution_count": 21,
   "metadata": {},
   "outputs": [
    {
     "data": {
      "text/plain": [
       "Text(0.5, 1.0, 'Distribution of Self Employed')"
      ]
     },
     "execution_count": 21,
     "metadata": {},
     "output_type": "execute_result"
    },
    {
     "data": {
      "image/png": "[encoded data removed]",
      "text/plain": [
       "<Figure size 1500x800 with 1 Axes>"
      ]
     },
     "metadata": {},
     "output_type": "display_data"
    }
   ],
   "source": [
    "plt.figure(figsize=(15, 8))\n",
    "sns.countplot(data=df_ori, x='Self_Employed', hue='Loan_Status', palette='husl')\n",
    "plt.title('Distribution of Self Employed')"
   ]
  },
  {
   "cell_type": "markdown",
   "metadata": {},
   "source": [
    "Dari data diatas dapat disimpulkan bahwa:\n",
    "\n",
    "1. Laki-laki lebih banyak mengajukan peminjaman ke bank dibandingkan dengan perempuan dan mayoritas sudah menikah, hal ini dapat diasumsikan bahwa pengeluaran dan kebutuhan orang yang sudah menikah lebih besar dibandingkan dengan yang belum menikah serta laki laki yang sudah memiliki tanggung jawab untuk membiayai semua kebutuhan keluarga dan rumah tangga.\n",
    "2. Nasabah yang sudah lulus pinjaman yang disetujui bank lebih banyak daripada yang belum lulus, hal ini dikarenakan nasabah yang sudah lulus biasa sudah memiliki pekerjaan dan penghasilan serta dapat membayar cicilan sendiri sedangkan nasabah yang belum lulus biasanya belum memiliki penghasilan dan cicilannya dibayarkan oleh walinya. Kemungkinan hal hal tersebut yang menjadi faktor bank menyetujui peminjaman\n",
    "4. Nasabah yang bekerja sendiri(wirausaha) membayar pinjaman lebih sedikit daripada yang tidak(karyawan), kemungkinan nasabah yang berwirausaha melakukan pinjaman dengan memakai nama usaha atau perusahaan mereka sendiri bukan memakai nama pribadi.\n",
    "5. Pinjaman jangka panjang lebih mungkin untuk diterima daripada pinjaman jangka pendek, hal ini dikarenakan pinjaman jangka pendek kemungkinan cicilan terselesaikan lebih tinggi daripada pinjaman jangka panjang\n",
    "6. Nasabah dengan Riwayat Kredit yang lebih baik cenderung diterima peminjamannya dibanding dengan nasabah yang memiliki Riwayat Kredit yang buruk, kemungkinan nasabah dengan riwayat buruk ini sering terlambat membayar cicilan atau bahkan tidak menyelesaikan cicilan pada peminjaman sebelumnya yang mengakibatkan bank enggan untuk menyetujui peminjamannya\n",
    "7. Nasabah dari wilayah semi urban lebih mungkin diterima pinjamannya dibandingkan Nasabah dari wilayah urban dan Nasabah dari wilayah rural\n",
    "8. Nasabah yang tidak memiliki tanggungan lebih mungkin diterima pinjamannya dibanding nasabah dengan 2 Tanggungan, nasabah dengan 1 Tanggungan dan 3+ Tanggungan\n"
   ]
  },
  {
   "cell_type": "markdown",
   "metadata": {},
   "source": [
    "# Feature Engineering"
   ]
  },
  {
   "cell_type": "markdown",
   "metadata": {},
   "source": [
    "## Handling Missing Value"
   ]
  },
  {
   "cell_type": "code",
   "execution_count": 22,
   "metadata": {},
   "outputs": [
    {
     "data": {
      "text/plain": [
       "Loan_ID              0\n",
       "Gender               0\n",
       "Married              0\n",
       "Dependents           0\n",
       "Education            0\n",
       "Self_Employed        0\n",
       "ApplicantIncome      0\n",
       "CoapplicantIncome    0\n",
       "LoanAmount           0\n",
       "Loan_Amount_Term     0\n",
       "Credit_History       0\n",
       "Property_Area        0\n",
       "Loan_Status          0\n",
       "dtype: int64"
      ]
     },
     "execution_count": 22,
     "metadata": {},
     "output_type": "execute_result"
    }
   ],
   "source": [
    "df.isna().sum()"
   ]
  },
  {
   "cell_type": "markdown",
   "metadata": {},
   "source": [
    "Tidak ditemukan missing value, karena sebelumnya telah dilakukan handling pada proses EDA"
   ]
  },
  {
   "cell_type": "markdown",
   "metadata": {},
   "source": [
    "## Handling Outlier"
   ]
  },
  {
   "cell_type": "code",
   "execution_count": 23,
   "metadata": {},
   "outputs": [],
   "source": [
    "df1= df.drop(['Loan_ID'], axis=1)"
   ]
  },
  {
   "cell_type": "code",
   "execution_count": 24,
   "metadata": {},
   "outputs": [
    {
     "name": "stdout",
     "output_type": "stream",
     "text": [
      "Persentase outlier Gender: 22.31%\n",
      "Persentase outlier Married: 0.00%\n",
      "Persentase outlier Dependents: 0.00%\n",
      "Persentase outlier Education: 0.00%\n",
      "Persentase outlier Self_Employed: 9.19%\n",
      "Persentase outlier ApplicantIncome: 0.26%\n",
      "Persentase outlier CoapplicantIncome: 0.79%\n",
      "Persentase outlier LoanAmount: 0.00%\n",
      "Persentase outlier Loan_Amount_Term: 15.22%\n",
      "Persentase outlier Credit_History: 14.96%\n",
      "Persentase outlier Property_Area: 0.00%\n",
      "Persentase outlier Loan_Status: 0.00%\n"
     ]
    }
   ],
   "source": [
    "# Lets look at the number and percentage of outliers\n",
    "def skew_boundary(data, column):\n",
    "    iqr = data[column].quantile(0.75) - data[column].quantile(0.25)\n",
    "    low = data[column].quantile(0.25) - (3 * iqr)\n",
    "    up = data[column].quantile(0.75) + (3 * iqr)\n",
    "    return low, up\n",
    "\n",
    "def normal_boundary(data, column):\n",
    "    low = data[column].mean() - (3 * data[column].std())\n",
    "    up = data[column].mean() + (3 * data[column].std())\n",
    "    return low, up\n",
    "\n",
    "for col in df1.columns.tolist():\n",
    "    if abs(df1[col].skew()) > 0.5:\n",
    "        low, up = skew_boundary(df1, col)\n",
    "    else:\n",
    "        low, up = normal_boundary(df1, col)\n",
    "    print(f\"Persentase outlier {col}: {len(df1[(df1[col] < low) | (df1[col] > up)])/len(df1)*100:.2f}%\")"
   ]
  },
  {
   "cell_type": "markdown",
   "metadata": {},
   "source": [
    "Tidak dilakukan handling outlier karena sebagian feature memiliki outlier yang sangat kecil (mendekati 0) yang masih dapat diterima,lalu sebagian lagi cukup besar sehingga akan membuat data tidak real jika dilakukan capping atau terlalu banyak data yang di drop jika dilakukan trimming."
   ]
  },
  {
   "cell_type": "code",
   "execution_count": 25,
   "metadata": {},
   "outputs": [],
   "source": [
    "# Split inference data\n",
    "df_inf = df.sample(n = 1, random_state = 1)\n",
    "\n",
    "# Delete inference from data\n",
    "df.drop(df_inf.index, inplace = True)\n",
    "\n",
    "# Reset data index\n",
    "df.reset_index(drop = True, inplace = True)\n",
    "df_inf.reset_index(drop = True, inplace = True)\n",
    "\n",
    "df_inf = df_inf.drop('Loan_Status', axis=1)\n",
    "\n",
    "# Saving inference to csv\n",
    "df_inf.to_csv('inference.csv', index=False)"
   ]
  },
  {
   "cell_type": "markdown",
   "metadata": {},
   "source": [
    "Memisahkan data inference menggunakan salah satu sample pada dataset"
   ]
  },
  {
   "cell_type": "markdown",
   "metadata": {},
   "source": [
    "## Split X & y"
   ]
  },
  {
   "cell_type": "code",
   "execution_count": 26,
   "metadata": {},
   "outputs": [
    {
     "name": "stdout",
     "output_type": "stream",
     "text": [
      "interval columns not set, guessing: ['Gender', 'Married', 'Dependents', 'Education', 'Self_Employed', 'ApplicantIncome', 'CoapplicantIncome', 'LoanAmount', 'Loan_Amount_Term', 'Credit_History', 'Property_Area', 'Loan_Status']\n"
     ]
    },
    {
     "data": {
      "text/html": [
       "<div>\n",
       "<style scoped>\n",
       "    .dataframe tbody tr th:only-of-type {\n",
       "        vertical-align: middle;\n",
       "    }\n",
       "\n",
       "    .dataframe tbody tr th {\n",
       "        vertical-align: top;\n",
       "    }\n",
       "\n",
       "    .dataframe thead th {\n",
       "        text-align: right;\n",
       "    }\n",
       "</style>\n",
       "<table border=\"1\" class=\"dataframe\">\n",
       "  <thead>\n",
       "    <tr style=\"text-align: right;\">\n",
       "      <th></th>\n",
       "      <th>Loan_ID</th>\n",
       "      <th>Gender</th>\n",
       "      <th>Married</th>\n",
       "      <th>Dependents</th>\n",
       "      <th>Education</th>\n",
       "      <th>Self_Employed</th>\n",
       "      <th>ApplicantIncome</th>\n",
       "      <th>CoapplicantIncome</th>\n",
       "      <th>LoanAmount</th>\n",
       "      <th>Loan_Amount_Term</th>\n",
       "      <th>Credit_History</th>\n",
       "      <th>Property_Area</th>\n",
       "      <th>Loan_Status</th>\n",
       "    </tr>\n",
       "  </thead>\n",
       "  <tbody>\n",
       "    <tr>\n",
       "      <th>Loan_ID</th>\n",
       "      <td>1.0</td>\n",
       "      <td>1.000000</td>\n",
       "      <td>1.000000</td>\n",
       "      <td>1.000000</td>\n",
       "      <td>1.000000</td>\n",
       "      <td>1.000000</td>\n",
       "      <td>1.000000</td>\n",
       "      <td>1.000000</td>\n",
       "      <td>1.000000</td>\n",
       "      <td>1.000000</td>\n",
       "      <td>1.000000</td>\n",
       "      <td>1.000000</td>\n",
       "      <td>1.000000</td>\n",
       "    </tr>\n",
       "    <tr>\n",
       "      <th>Gender</th>\n",
       "      <td>1.0</td>\n",
       "      <td>1.000000</td>\n",
       "      <td>0.519712</td>\n",
       "      <td>0.312744</td>\n",
       "      <td>0.147360</td>\n",
       "      <td>0.000000</td>\n",
       "      <td>0.114690</td>\n",
       "      <td>0.030798</td>\n",
       "      <td>0.000000</td>\n",
       "      <td>0.020056</td>\n",
       "      <td>0.000000</td>\n",
       "      <td>0.061651</td>\n",
       "      <td>0.000000</td>\n",
       "    </tr>\n",
       "    <tr>\n",
       "      <th>Married</th>\n",
       "      <td>1.0</td>\n",
       "      <td>0.519712</td>\n",
       "      <td>1.000000</td>\n",
       "      <td>0.569649</td>\n",
       "      <td>0.000000</td>\n",
       "      <td>0.000000</td>\n",
       "      <td>0.000000</td>\n",
       "      <td>0.096833</td>\n",
       "      <td>0.155343</td>\n",
       "      <td>0.125246</td>\n",
       "      <td>0.000000</td>\n",
       "      <td>0.000000</td>\n",
       "      <td>0.107012</td>\n",
       "    </tr>\n",
       "    <tr>\n",
       "      <th>Dependents</th>\n",
       "      <td>1.0</td>\n",
       "      <td>0.312744</td>\n",
       "      <td>0.569649</td>\n",
       "      <td>1.000000</td>\n",
       "      <td>0.120931</td>\n",
       "      <td>0.000000</td>\n",
       "      <td>0.136752</td>\n",
       "      <td>0.000000</td>\n",
       "      <td>0.000000</td>\n",
       "      <td>0.193495</td>\n",
       "      <td>0.000000</td>\n",
       "      <td>0.000000</td>\n",
       "      <td>0.000000</td>\n",
       "    </tr>\n",
       "    <tr>\n",
       "      <th>Education</th>\n",
       "      <td>1.0</td>\n",
       "      <td>0.147360</td>\n",
       "      <td>0.000000</td>\n",
       "      <td>0.120931</td>\n",
       "      <td>1.000000</td>\n",
       "      <td>0.000000</td>\n",
       "      <td>0.000000</td>\n",
       "      <td>0.000000</td>\n",
       "      <td>0.000000</td>\n",
       "      <td>0.000000</td>\n",
       "      <td>0.000000</td>\n",
       "      <td>0.029491</td>\n",
       "      <td>0.000000</td>\n",
       "    </tr>\n",
       "    <tr>\n",
       "      <th>Self_Employed</th>\n",
       "      <td>1.0</td>\n",
       "      <td>0.000000</td>\n",
       "      <td>0.000000</td>\n",
       "      <td>0.000000</td>\n",
       "      <td>0.000000</td>\n",
       "      <td>1.000000</td>\n",
       "      <td>0.385451</td>\n",
       "      <td>0.000000</td>\n",
       "      <td>0.000000</td>\n",
       "      <td>0.205502</td>\n",
       "      <td>0.000000</td>\n",
       "      <td>0.000000</td>\n",
       "      <td>0.000000</td>\n",
       "    </tr>\n",
       "    <tr>\n",
       "      <th>ApplicantIncome</th>\n",
       "      <td>1.0</td>\n",
       "      <td>0.114690</td>\n",
       "      <td>0.000000</td>\n",
       "      <td>0.136752</td>\n",
       "      <td>0.000000</td>\n",
       "      <td>0.385451</td>\n",
       "      <td>1.000000</td>\n",
       "      <td>0.000000</td>\n",
       "      <td>0.277337</td>\n",
       "      <td>0.000000</td>\n",
       "      <td>0.000000</td>\n",
       "      <td>0.067432</td>\n",
       "      <td>0.000000</td>\n",
       "    </tr>\n",
       "    <tr>\n",
       "      <th>CoapplicantIncome</th>\n",
       "      <td>1.0</td>\n",
       "      <td>0.030798</td>\n",
       "      <td>0.096833</td>\n",
       "      <td>0.000000</td>\n",
       "      <td>0.000000</td>\n",
       "      <td>0.000000</td>\n",
       "      <td>0.000000</td>\n",
       "      <td>1.000000</td>\n",
       "      <td>0.000000</td>\n",
       "      <td>0.000000</td>\n",
       "      <td>0.064191</td>\n",
       "      <td>0.000000</td>\n",
       "      <td>0.000000</td>\n",
       "    </tr>\n",
       "    <tr>\n",
       "      <th>LoanAmount</th>\n",
       "      <td>1.0</td>\n",
       "      <td>0.000000</td>\n",
       "      <td>0.155343</td>\n",
       "      <td>0.000000</td>\n",
       "      <td>0.000000</td>\n",
       "      <td>0.000000</td>\n",
       "      <td>0.277337</td>\n",
       "      <td>0.000000</td>\n",
       "      <td>1.000000</td>\n",
       "      <td>0.430634</td>\n",
       "      <td>0.000000</td>\n",
       "      <td>0.219166</td>\n",
       "      <td>0.000000</td>\n",
       "    </tr>\n",
       "    <tr>\n",
       "      <th>Loan_Amount_Term</th>\n",
       "      <td>1.0</td>\n",
       "      <td>0.020056</td>\n",
       "      <td>0.125246</td>\n",
       "      <td>0.193495</td>\n",
       "      <td>0.000000</td>\n",
       "      <td>0.205502</td>\n",
       "      <td>0.000000</td>\n",
       "      <td>0.000000</td>\n",
       "      <td>0.430634</td>\n",
       "      <td>1.000000</td>\n",
       "      <td>0.070562</td>\n",
       "      <td>0.107307</td>\n",
       "      <td>0.152583</td>\n",
       "    </tr>\n",
       "    <tr>\n",
       "      <th>Credit_History</th>\n",
       "      <td>1.0</td>\n",
       "      <td>0.000000</td>\n",
       "      <td>0.000000</td>\n",
       "      <td>0.000000</td>\n",
       "      <td>0.000000</td>\n",
       "      <td>0.000000</td>\n",
       "      <td>0.000000</td>\n",
       "      <td>0.064191</td>\n",
       "      <td>0.000000</td>\n",
       "      <td>0.070562</td>\n",
       "      <td>1.000000</td>\n",
       "      <td>0.000000</td>\n",
       "      <td>0.808894</td>\n",
       "    </tr>\n",
       "    <tr>\n",
       "      <th>Property_Area</th>\n",
       "      <td>1.0</td>\n",
       "      <td>0.061651</td>\n",
       "      <td>0.000000</td>\n",
       "      <td>0.000000</td>\n",
       "      <td>0.029491</td>\n",
       "      <td>0.000000</td>\n",
       "      <td>0.067432</td>\n",
       "      <td>0.000000</td>\n",
       "      <td>0.219166</td>\n",
       "      <td>0.107307</td>\n",
       "      <td>0.000000</td>\n",
       "      <td>1.000000</td>\n",
       "      <td>0.092188</td>\n",
       "    </tr>\n",
       "    <tr>\n",
       "      <th>Loan_Status</th>\n",
       "      <td>1.0</td>\n",
       "      <td>0.000000</td>\n",
       "      <td>0.107012</td>\n",
       "      <td>0.000000</td>\n",
       "      <td>0.000000</td>\n",
       "      <td>0.000000</td>\n",
       "      <td>0.000000</td>\n",
       "      <td>0.000000</td>\n",
       "      <td>0.000000</td>\n",
       "      <td>0.152583</td>\n",
       "      <td>0.808894</td>\n",
       "      <td>0.092188</td>\n",
       "      <td>1.000000</td>\n",
       "    </tr>\n",
       "  </tbody>\n",
       "</table>\n",
       "</div>"
      ],
      "text/plain": [
       "                   Loan_ID    Gender   Married  Dependents  Education  \\\n",
       "Loan_ID                1.0  1.000000  1.000000    1.000000   1.000000   \n",
       "Gender                 1.0  1.000000  0.519712    0.312744   0.147360   \n",
       "Married                1.0  0.519712  1.000000    0.569649   0.000000   \n",
       "Dependents             1.0  0.312744  0.569649    1.000000   0.120931   \n",
       "Education              1.0  0.147360  0.000000    0.120931   1.000000   \n",
       "Self_Employed          1.0  0.000000  0.000000    0.000000   0.000000   \n",
       "ApplicantIncome        1.0  0.114690  0.000000    0.136752   0.000000   \n",
       "CoapplicantIncome      1.0  0.030798  0.096833    0.000000   0.000000   \n",
       "LoanAmount             1.0  0.000000  0.155343    0.000000   0.000000   \n",
       "Loan_Amount_Term       1.0  0.020056  0.125246    0.193495   0.000000   \n",
       "Credit_History         1.0  0.000000  0.000000    0.000000   0.000000   \n",
       "Property_Area          1.0  0.061651  0.000000    0.000000   0.029491   \n",
       "Loan_Status            1.0  0.000000  0.107012    0.000000   0.000000   \n",
       "\n",
       "                   Self_Employed  ApplicantIncome  CoapplicantIncome  \\\n",
       "Loan_ID                 1.000000         1.000000           1.000000   \n",
       "Gender                  0.000000         0.114690           0.030798   \n",
       "Married                 0.000000         0.000000           0.096833   \n",
       "Dependents              0.000000         0.136752           0.000000   \n",
       "Education               0.000000         0.000000           0.000000   \n",
       "Self_Employed           1.000000         0.385451           0.000000   \n",
       "ApplicantIncome         0.385451         1.000000           0.000000   \n",
       "CoapplicantIncome       0.000000         0.000000           1.000000   \n",
       "LoanAmount              0.000000         0.277337           0.000000   \n",
       "Loan_Amount_Term        0.205502         0.000000           0.000000   \n",
       "Credit_History          0.000000         0.000000           0.064191   \n",
       "Property_Area           0.000000         0.067432           0.000000   \n",
       "Loan_Status             0.000000         0.000000           0.000000   \n",
       "\n",
       "                   LoanAmount  Loan_Amount_Term  Credit_History  \\\n",
       "Loan_ID              1.000000          1.000000        1.000000   \n",
       "Gender               0.000000          0.020056        0.000000   \n",
       "Married              0.155343          0.125246        0.000000   \n",
       "Dependents           0.000000          0.193495        0.000000   \n",
       "Education            0.000000          0.000000        0.000000   \n",
       "Self_Employed        0.000000          0.205502        0.000000   \n",
       "ApplicantIncome      0.277337          0.000000        0.000000   \n",
       "CoapplicantIncome    0.000000          0.000000        0.064191   \n",
       "LoanAmount           1.000000          0.430634        0.000000   \n",
       "Loan_Amount_Term     0.430634          1.000000        0.070562   \n",
       "Credit_History       0.000000          0.070562        1.000000   \n",
       "Property_Area        0.219166          0.107307        0.000000   \n",
       "Loan_Status          0.000000          0.152583        0.808894   \n",
       "\n",
       "                   Property_Area  Loan_Status  \n",
       "Loan_ID                 1.000000     1.000000  \n",
       "Gender                  0.061651     0.000000  \n",
       "Married                 0.000000     0.107012  \n",
       "Dependents              0.000000     0.000000  \n",
       "Education               0.029491     0.000000  \n",
       "Self_Employed           0.000000     0.000000  \n",
       "ApplicantIncome         0.067432     0.000000  \n",
       "CoapplicantIncome       0.000000     0.000000  \n",
       "LoanAmount              0.219166     0.000000  \n",
       "Loan_Amount_Term        0.107307     0.152583  \n",
       "Credit_History          0.000000     0.808894  \n",
       "Property_Area           1.000000     0.092188  \n",
       "Loan_Status             0.092188     1.000000  "
      ]
     },
     "execution_count": 26,
     "metadata": {},
     "output_type": "execute_result"
    }
   ],
   "source": [
    "df.phik_matrix()"
   ]
  },
  {
   "cell_type": "markdown",
   "metadata": {},
   "source": [
    "Untuk Split X dan y diambil feature X yang memiliki nilai korelasi y dengan nilai diatas 0 "
   ]
  },
  {
   "cell_type": "code",
   "execution_count": 27,
   "metadata": {},
   "outputs": [],
   "source": [
    "X = df[['Married','Loan_Amount_Term','Credit_History', 'Property_Area']]\n",
    "y = df['Loan_Status']"
   ]
  },
  {
   "cell_type": "code",
   "execution_count": 28,
   "metadata": {},
   "outputs": [
    {
     "data": {
      "text/html": [
       "<div>\n",
       "<style scoped>\n",
       "    .dataframe tbody tr th:only-of-type {\n",
       "        vertical-align: middle;\n",
       "    }\n",
       "\n",
       "    .dataframe tbody tr th {\n",
       "        vertical-align: top;\n",
       "    }\n",
       "\n",
       "    .dataframe thead th {\n",
       "        text-align: right;\n",
       "    }\n",
       "</style>\n",
       "<table border=\"1\" class=\"dataframe\">\n",
       "  <thead>\n",
       "    <tr style=\"text-align: right;\">\n",
       "      <th></th>\n",
       "      <th>Married</th>\n",
       "      <th>Loan_Amount_Term</th>\n",
       "      <th>Credit_History</th>\n",
       "      <th>Property_Area</th>\n",
       "    </tr>\n",
       "  </thead>\n",
       "  <tbody>\n",
       "    <tr>\n",
       "      <th>0</th>\n",
       "      <td>0</td>\n",
       "      <td>360</td>\n",
       "      <td>1</td>\n",
       "      <td>0</td>\n",
       "    </tr>\n",
       "    <tr>\n",
       "      <th>1</th>\n",
       "      <td>0</td>\n",
       "      <td>360</td>\n",
       "      <td>1</td>\n",
       "      <td>1</td>\n",
       "    </tr>\n",
       "    <tr>\n",
       "      <th>2</th>\n",
       "      <td>0</td>\n",
       "      <td>360</td>\n",
       "      <td>1</td>\n",
       "      <td>1</td>\n",
       "    </tr>\n",
       "    <tr>\n",
       "      <th>3</th>\n",
       "      <td>1</td>\n",
       "      <td>360</td>\n",
       "      <td>1</td>\n",
       "      <td>1</td>\n",
       "    </tr>\n",
       "    <tr>\n",
       "      <th>4</th>\n",
       "      <td>0</td>\n",
       "      <td>360</td>\n",
       "      <td>1</td>\n",
       "      <td>1</td>\n",
       "    </tr>\n",
       "    <tr>\n",
       "      <th>...</th>\n",
       "      <td>...</td>\n",
       "      <td>...</td>\n",
       "      <td>...</td>\n",
       "      <td>...</td>\n",
       "    </tr>\n",
       "    <tr>\n",
       "      <th>375</th>\n",
       "      <td>0</td>\n",
       "      <td>360</td>\n",
       "      <td>1</td>\n",
       "      <td>1</td>\n",
       "    </tr>\n",
       "    <tr>\n",
       "      <th>376</th>\n",
       "      <td>0</td>\n",
       "      <td>360</td>\n",
       "      <td>1</td>\n",
       "      <td>0</td>\n",
       "    </tr>\n",
       "    <tr>\n",
       "      <th>377</th>\n",
       "      <td>1</td>\n",
       "      <td>360</td>\n",
       "      <td>1</td>\n",
       "      <td>0</td>\n",
       "    </tr>\n",
       "    <tr>\n",
       "      <th>378</th>\n",
       "      <td>0</td>\n",
       "      <td>180</td>\n",
       "      <td>1</td>\n",
       "      <td>0</td>\n",
       "    </tr>\n",
       "    <tr>\n",
       "      <th>379</th>\n",
       "      <td>1</td>\n",
       "      <td>360</td>\n",
       "      <td>0</td>\n",
       "      <td>3</td>\n",
       "    </tr>\n",
       "  </tbody>\n",
       "</table>\n",
       "<p>380 rows × 4 columns</p>\n",
       "</div>"
      ],
      "text/plain": [
       "     Married  Loan_Amount_Term  Credit_History  Property_Area\n",
       "0          0               360               1              0\n",
       "1          0               360               1              1\n",
       "2          0               360               1              1\n",
       "3          1               360               1              1\n",
       "4          0               360               1              1\n",
       "..       ...               ...             ...            ...\n",
       "375        0               360               1              1\n",
       "376        0               360               1              0\n",
       "377        1               360               1              0\n",
       "378        0               180               1              0\n",
       "379        1               360               0              3\n",
       "\n",
       "[380 rows x 4 columns]"
      ]
     },
     "execution_count": 28,
     "metadata": {},
     "output_type": "execute_result"
    }
   ],
   "source": [
    "X"
   ]
  },
  {
   "cell_type": "code",
   "execution_count": 29,
   "metadata": {},
   "outputs": [],
   "source": [
    "#split x_train, x_test, y_train, y_test\n",
    "X_train, X_test, y_train, y_test = train_test_split(X, y, test_size=0.2, random_state=42)"
   ]
  },
  {
   "cell_type": "markdown",
   "metadata": {},
   "source": [
    "## Scaling & Encoding with Pipeline"
   ]
  },
  {
   "cell_type": "code",
   "execution_count": 30,
   "metadata": {},
   "outputs": [],
   "source": [
    "# Define the preprocessing steps\n",
    "numeric_features = ['Loan_Amount_Term']  # Assuming these are the indices of numerical features\n",
    "categorical_features = ['Married','Credit_History', 'Property_Area']  # Assuming these are the indices of categorical features\n",
    "\n",
    "numeric_transformer = Pipeline(steps=[\n",
    "    ('scaler', StandardScaler())\n",
    "])\n",
    "\n",
    "categorical_transformer = Pipeline(steps=[\n",
    "    ('onehot', OneHotEncoder(handle_unknown='ignore'))\n",
    "])\n",
    "\n",
    "preprocessor = ColumnTransformer(\n",
    "    transformers=[\n",
    "        ('num', numeric_transformer, numeric_features),\n",
    "        ('cat', categorical_transformer, categorical_features)\n",
    "    ])"
   ]
  },
  {
   "cell_type": "markdown",
   "metadata": {},
   "source": [
    "# Model Definition"
   ]
  },
  {
   "cell_type": "code",
   "execution_count": 31,
   "metadata": {},
   "outputs": [],
   "source": [
    "#Model Definition using pipeline\n",
    "pipe_svc = Pipeline([(\"prepro\" , preprocessor),(\"clf\", SVC())])\n",
    "pipe_dt = Pipeline([(\"prepro\", preprocessor),(\"clf\", DecisionTreeClassifier(random_state=10))])\n",
    "pipe_rf = Pipeline([(\"prepro\", preprocessor),(\"clf\",RandomForestClassifier(random_state=10))])\n",
    "pipe_knn = Pipeline([(\"prepro\", preprocessor),(\"clf\", KNeighborsClassifier())])\n",
    "pipe_gb = Pipeline([(\"prepro\", preprocessor),(\"clf\", GradientBoostingClassifier())])"
   ]
  },
  {
   "cell_type": "code",
   "execution_count": 32,
   "metadata": {},
   "outputs": [],
   "source": [
    "skfold = StratifiedKFold(n_splits = 5)"
   ]
  },
  {
   "cell_type": "code",
   "execution_count": 33,
   "metadata": {},
   "outputs": [],
   "source": [
    "# Define Cross Validation for each model\n",
    "cv_svm_model = cross_val_score(pipe_svc, X_train, y_train, cv = skfold, scoring='f1', n_jobs=-1)\n",
    "cv_dt_model = cross_val_score(pipe_dt, X_train, y_train, cv = skfold, scoring='f1', n_jobs=-1)\n",
    "cv_rf_model = cross_val_score(pipe_rf, X_train, y_train, cv = skfold, scoring='f1', n_jobs=-1)\n",
    "cv_knn_model = cross_val_score(pipe_knn, X_train, y_train, cv = skfold, scoring='f1', n_jobs=-1)\n",
    "cv_gb_model = cross_val_score(pipe_gb, X_train, y_train, cv = skfold, scoring='f1', n_jobs=-1)"
   ]
  },
  {
   "cell_type": "code",
   "execution_count": 34,
   "metadata": {},
   "outputs": [
    {
     "name": "stdout",
     "output_type": "stream",
     "text": [
      "svm_model\n",
      "f1score - All - Cross Validation : [0.90322581 0.92473118 0.92307692 0.87234043 0.91489362]\n",
      "f1score - Mean - Cross Validation : 0.9076535909754853\n",
      "f1score - std - Cross Validation : 0.01922792876036117\n",
      "f1score - Range of Test Set : 0.8884256622151241 - 0.9268815197358464\n",
      "--------------------------------------------------\n",
      "dt_model\n",
      "f1score - All - Cross Validation : [0.90322581 0.91304348 0.92307692 0.86315789 0.87912088]\n",
      "f1score - Mean - Cross Validation : 0.8963249963294253\n",
      "f1score - std - Cross Validation : 0.022085437193391174\n",
      "f1score - Range of Test Set : 0.8742395591360341 - 0.9184104335228165\n",
      "--------------------------------------------------\n",
      "rf_model\n",
      "f1score - All - Cross Validation : [0.91489362 0.92473118 0.92307692 0.86315789 0.89130435]\n",
      "f1score - Mean - Cross Validation : 0.9034327930913655\n",
      "f1score - std - Cross Validation : 0.023409529487196486\n",
      "f1score - Range of Test Set : 0.880023263604169 - 0.9268423225785619\n",
      "--------------------------------------------------\n",
      "knn_model\n",
      "f1score - All - Cross Validation : [0.90526316 0.90526316 0.92307692 0.87234043 0.91489362]\n",
      "f1score - Mean - Cross Validation : 0.9041674562839177\n",
      "f1score - std - Cross Validation : 0.01725096790958854\n",
      "f1score - Range of Test Set : 0.8869164883743291 - 0.9214184241935063\n",
      "--------------------------------------------------\n",
      "gb_model\n",
      "f1score - All - Cross Validation : [0.90322581 0.92473118 0.93478261 0.85106383 0.88172043]\n",
      "f1score - Mean - Cross Validation : 0.899104771567545\n",
      "f1score - std - Cross Validation : 0.030188578496602426\n",
      "f1score - Range of Test Set : 0.8689161930709426 - 0.9292933500641474\n",
      "--------------------------------------------------\n",
      "Best Model: svm_model\n",
      "Cross Val Mean from Best Model: 0.9076535909754853\n"
     ]
    }
   ],
   "source": [
    "# Finding Best Model based on Cross_Val_Score (mean)\n",
    "name_model = []\n",
    "cv_scores=0\n",
    "for cv,name in zip([cv_svm_model,cv_dt_model,cv_rf_model,cv_knn_model,cv_gb_model],\n",
    "                   ['svm_model','dt_model','rf_model','knn_model','gb_model']):\n",
    "  print(name)\n",
    "  print('f1score - All - Cross Validation :', cv)\n",
    "  print('f1score - Mean - Cross Validation :', cv.mean())\n",
    "  print('f1score - std - Cross Validation :', cv.std())\n",
    "  print('f1score - Range of Test Set :', (cv.mean()-cv.std()), '-' , (cv.mean()+cv.std()))\n",
    "  print('-'*50)\n",
    "  if cv.mean() > cv_scores:\n",
    "    cv_scores = cv.mean()\n",
    "    name_model = name\n",
    "  else:\n",
    "    pass\n",
    "print('Best Model:', name_model)\n",
    "print('Cross Val Mean from Best Model:', cv_scores)"
   ]
  },
  {
   "cell_type": "markdown",
   "metadata": {},
   "source": [
    "Berdasarkan informasi diatas didapatkan model yang terbaik adalah menggunakan SVM Model, dengan output metric Accuracy sebesar 0.907. Oleh karena itu best model dalam program ini menggunakan SVM Model. "
   ]
  },
  {
   "cell_type": "markdown",
   "metadata": {},
   "source": [
    "# Model Training"
   ]
  },
  {
   "cell_type": "markdown",
   "metadata": {},
   "source": [
    "Dalam tahapan ini melakukan fitting kepada model algoritma SVM"
   ]
  },
  {
   "cell_type": "code",
   "execution_count": 35,
   "metadata": {},
   "outputs": [],
   "source": [
    "# SVM Model\n",
    "\n",
    "pipe_svc.fit(X_train, y_train)\n",
    "\n",
    "# Memprediksi dengan SVM baseline\n",
    "y_pred_train_svm = pipe_svc.predict(X_train)\n",
    "y_pred_test_svm = pipe_svc.predict(X_test)"
   ]
  },
  {
   "cell_type": "markdown",
   "metadata": {},
   "source": [
    "# Model Evaluation"
   ]
  },
  {
   "cell_type": "markdown",
   "metadata": {},
   "source": [
    "## Hyperparameter Tuning"
   ]
  },
  {
   "cell_type": "markdown",
   "metadata": {},
   "source": [
    "### Baseline Model"
   ]
  },
  {
   "cell_type": "code",
   "execution_count": 36,
   "metadata": {},
   "outputs": [
    {
     "name": "stdout",
     "output_type": "stream",
     "text": [
      "SVM - Baseline\n",
      "\n",
      "F1 Score :  0.8688524590163934 \n",
      "\n",
      "Classification Report : \n",
      "               precision    recall  f1-score   support\n",
      "\n",
      "           0       0.88      0.32      0.47        22\n",
      "           1       0.78      0.98      0.87        54\n",
      "\n",
      "    accuracy                           0.79        76\n",
      "   macro avg       0.83      0.65      0.67        76\n",
      "weighted avg       0.81      0.79      0.75        76\n",
      " \n",
      "\n",
      "Confusion Matrix : \n",
      " <sklearn.metrics._plot.confusion_matrix.ConfusionMatrixDisplay object at 0x00000187456F2C50>\n"
     ]
    },
    {
     "data": {
      "image/png": "[encoded data removed]",
      "text/plain": [
       "<Figure size 640x480 with 2 Axes>"
      ]
     },
     "metadata": {},
     "output_type": "display_data"
    }
   ],
   "source": [
    "#predict using best model\n",
    "pipe_svc.fit(X_train,y_train)\n",
    "\n",
    "y_pred_train_svm = pipe_svc.predict(X_train)\n",
    "y_pred_test_svm = pipe_svc.predict(X_test)\n",
    "\n",
    "print('SVM - Baseline\\n')\n",
    "print('F1 Score : ', f1_score(y_test,y_pred_test_svm ), '\\n')\n",
    "print('Classification Report : \\n', classification_report(y_test,y_pred_test_svm), '\\n')\n",
    "print('Confusion Matrix : \\n', ConfusionMatrixDisplay.from_estimator(pipe_svc, X_test, y_test))"
   ]
  },
  {
   "cell_type": "markdown",
   "metadata": {},
   "source": [
    "Berdasarkan informasi diatas, didapatkan accuracy test dalam model SVM sebesar 0.8688. Kemudian jika dilihat dari Confusion Matrix Display, model berhasil memprediksi True Positive sebesar 53 dan True Negative sebesar 7. "
   ]
  },
  {
   "cell_type": "code",
   "execution_count": 37,
   "metadata": {},
   "outputs": [
    {
     "data": {
      "text/html": [
       "<div>\n",
       "<style scoped>\n",
       "    .dataframe tbody tr th:only-of-type {\n",
       "        vertical-align: middle;\n",
       "    }\n",
       "\n",
       "    .dataframe tbody tr th {\n",
       "        vertical-align: top;\n",
       "    }\n",
       "\n",
       "    .dataframe thead th {\n",
       "        text-align: right;\n",
       "    }\n",
       "</style>\n",
       "<table border=\"1\" class=\"dataframe\">\n",
       "  <thead>\n",
       "    <tr style=\"text-align: right;\">\n",
       "      <th></th>\n",
       "      <th>Baseline (SVM)</th>\n",
       "    </tr>\n",
       "  </thead>\n",
       "  <tbody>\n",
       "    <tr>\n",
       "      <th>Train - F1 Score</th>\n",
       "      <td>0.914163</td>\n",
       "    </tr>\n",
       "    <tr>\n",
       "      <th>Test - F1 Score</th>\n",
       "      <td>0.868852</td>\n",
       "    </tr>\n",
       "  </tbody>\n",
       "</table>\n",
       "</div>"
      ],
      "text/plain": [
       "                  Baseline (SVM)\n",
       "Train - F1 Score        0.914163\n",
       "Test - F1 Score         0.868852"
      ]
     },
     "execution_count": 37,
     "metadata": {},
     "output_type": "execute_result"
    }
   ],
   "source": [
    "#Menyimpan F1 Score baseline model ke dataframe\n",
    "\n",
    "report = pd.DataFrame({})\n",
    "report['Baseline (SVM)'] = {\n",
    "    'Train - F1 Score':f1_score(y_train,y_pred_train_svm),\n",
    "    'Test - F1 Score':f1_score(y_test,y_pred_test_svm)\n",
    "    }\n",
    "report"
   ]
  },
  {
   "cell_type": "markdown",
   "metadata": {},
   "source": [
    "### Random Search"
   ]
  },
  {
   "cell_type": "code",
   "execution_count": 38,
   "metadata": {},
   "outputs": [
    {
     "data": {
      "text/html": [
       "<style>#sk-container-id-1 {\n",
       "  /* Definition of color scheme common for light and dark mode */\n",
       "  --sklearn-color-text: black;\n",
       "  --sklearn-color-line: gray;\n",
       "  /* Definition of color scheme for unfitted estimators */\n",
       "  --sklearn-color-unfitted-level-0: #fff5e6;\n",
       "  --sklearn-color-unfitted-level-1: #f6e4d2;\n",
       "  --sklearn-color-unfitted-level-2: #ffe0b3;\n",
       "  --sklearn-color-unfitted-level-3: chocolate;\n",
       "  /* Definition of color scheme for fitted estimators */\n",
       "  --sklearn-color-fitted-level-0: #f0f8ff;\n",
       "  --sklearn-color-fitted-level-1: #d4ebff;\n",
       "  --sklearn-color-fitted-level-2: #b3dbfd;\n",
       "  --sklearn-color-fitted-level-3: cornflowerblue;\n",
       "\n",
       "  /* Specific color for light theme */\n",
       "  --sklearn-color-text-on-default-background: var(--sg-text-color, var(--theme-code-foreground, var(--jp-content-font-color1, black)));\n",
       "  --sklearn-color-background: var(--sg-background-color, var(--theme-background, var(--jp-layout-color0, white)));\n",
       "  --sklearn-color-border-box: var(--sg-text-color, var(--theme-code-foreground, var(--jp-content-font-color1, black)));\n",
       "  --sklearn-color-icon: #696969;\n",
       "\n",
       "  @media (prefers-color-scheme: dark) {\n",
       "    /* Redefinition of color scheme for dark theme */\n",
       "    --sklearn-color-text-on-default-background: var(--sg-text-color, var(--theme-code-foreground, var(--jp-content-font-color1, white)));\n",
       "    --sklearn-color-background: var(--sg-background-color, var(--theme-background, var(--jp-layout-color0, #111)));\n",
       "    --sklearn-color-border-box: var(--sg-text-color, var(--theme-code-foreground, var(--jp-content-font-color1, white)));\n",
       "    --sklearn-color-icon: #878787;\n",
       "  }\n",
       "}\n",
       "\n",
       "#sk-container-id-1 {\n",
       "  color: var(--sklearn-color-text);\n",
       "}\n",
       "\n",
       "#sk-container-id-1 pre {\n",
       "  padding: 0;\n",
       "}\n",
       "\n",
       "#sk-container-id-1 input.sk-hidden--visually {\n",
       "  border: 0;\n",
       "  clip: rect(1px 1px 1px 1px);\n",
       "  clip: rect(1px, 1px, 1px, 1px);\n",
       "  height: 1px;\n",
       "  margin: -1px;\n",
       "  overflow: hidden;\n",
       "  padding: 0;\n",
       "  position: absolute;\n",
       "  width: 1px;\n",
       "}\n",
       "\n",
       "#sk-container-id-1 div.sk-dashed-wrapped {\n",
       "  border: 1px dashed var(--sklearn-color-line);\n",
       "  margin: 0 0.4em 0.5em 0.4em;\n",
       "  box-sizing: border-box;\n",
       "  padding-bottom: 0.4em;\n",
       "  background-color: var(--sklearn-color-background);\n",
       "}\n",
       "\n",
       "#sk-container-id-1 div.sk-container {\n",
       "  /* jupyter's `normalize.less` sets `[hidden] { display: none; }`\n",
       "     but bootstrap.min.css set `[hidden] { display: none !important; }`\n",
       "     so we also need the `!important` here to be able to override the\n",
       "     default hidden behavior on the sphinx rendered scikit-learn.org.\n",
       "     See: https://github.com/scikit-learn/scikit-learn/issues/21755 */\n",
       "  display: inline-block !important;\n",
       "  position: relative;\n",
       "}\n",
       "\n",
       "#sk-container-id-1 div.sk-text-repr-fallback {\n",
       "  display: none;\n",
       "}\n",
       "\n",
       "div.sk-parallel-item,\n",
       "div.sk-serial,\n",
       "div.sk-item {\n",
       "  /* draw centered vertical line to link estimators */\n",
       "  background-image: linear-gradient(var(--sklearn-color-text-on-default-background), var(--sklearn-color-text-on-default-background));\n",
       "  background-size: 2px 100%;\n",
       "  background-repeat: no-repeat;\n",
       "  background-position: center center;\n",
       "}\n",
       "\n",
       "/* Parallel-specific style estimator block */\n",
       "\n",
       "#sk-container-id-1 div.sk-parallel-item::after {\n",
       "  content: \"\";\n",
       "  width: 100%;\n",
       "  border-bottom: 2px solid var(--sklearn-color-text-on-default-background);\n",
       "  flex-grow: 1;\n",
       "}\n",
       "\n",
       "#sk-container-id-1 div.sk-parallel {\n",
       "  display: flex;\n",
       "  align-items: stretch;\n",
       "  justify-content: center;\n",
       "  background-color: var(--sklearn-color-background);\n",
       "  position: relative;\n",
       "}\n",
       "\n",
       "#sk-container-id-1 div.sk-parallel-item {\n",
       "  display: flex;\n",
       "  flex-direction: column;\n",
       "}\n",
       "\n",
       "#sk-container-id-1 div.sk-parallel-item:first-child::after {\n",
       "  align-self: flex-end;\n",
       "  width: 50%;\n",
       "}\n",
       "\n",
       "#sk-container-id-1 div.sk-parallel-item:last-child::after {\n",
       "  align-self: flex-start;\n",
       "  width: 50%;\n",
       "}\n",
       "\n",
       "#sk-container-id-1 div.sk-parallel-item:only-child::after {\n",
       "  width: 0;\n",
       "}\n",
       "\n",
       "/* Serial-specific style estimator block */\n",
       "\n",
       "#sk-container-id-1 div.sk-serial {\n",
       "  display: flex;\n",
       "  flex-direction: column;\n",
       "  align-items: center;\n",
       "  background-color: var(--sklearn-color-background);\n",
       "  padding-right: 1em;\n",
       "  padding-left: 1em;\n",
       "}\n",
       "\n",
       "\n",
       "/* Toggleable style: style used for estimator/Pipeline/ColumnTransformer box that is\n",
       "clickable and can be expanded/collapsed.\n",
       "- Pipeline and ColumnTransformer use this feature and define the default style\n",
       "- Estimators will overwrite some part of the style using the `sk-estimator` class\n",
       "*/\n",
       "\n",
       "/* Pipeline and ColumnTransformer style (default) */\n",
       "\n",
       "#sk-container-id-1 div.sk-toggleable {\n",
       "  /* Default theme specific background. It is overwritten whether we have a\n",
       "  specific estimator or a Pipeline/ColumnTransformer */\n",
       "  background-color: var(--sklearn-color-background);\n",
       "}\n",
       "\n",
       "/* Toggleable label */\n",
       "#sk-container-id-1 label.sk-toggleable__label {\n",
       "  cursor: pointer;\n",
       "  display: block;\n",
       "  width: 100%;\n",
       "  margin-bottom: 0;\n",
       "  padding: 0.5em;\n",
       "  box-sizing: border-box;\n",
       "  text-align: center;\n",
       "}\n",
       "\n",
       "#sk-container-id-1 label.sk-toggleable__label-arrow:before {\n",
       "  /* Arrow on the left of the label */\n",
       "  content: \"▸\";\n",
       "  float: left;\n",
       "  margin-right: 0.25em;\n",
       "  color: var(--sklearn-color-icon);\n",
       "}\n",
       "\n",
       "#sk-container-id-1 label.sk-toggleable__label-arrow:hover:before {\n",
       "  color: var(--sklearn-color-text);\n",
       "}\n",
       "\n",
       "/* Toggleable content - dropdown */\n",
       "\n",
       "#sk-container-id-1 div.sk-toggleable__content {\n",
       "  max-height: 0;\n",
       "  max-width: 0;\n",
       "  overflow: hidden;\n",
       "  text-align: left;\n",
       "  /* unfitted */\n",
       "  background-color: var(--sklearn-color-unfitted-level-0);\n",
       "}\n",
       "\n",
       "#sk-container-id-1 div.sk-toggleable__content.fitted {\n",
       "  /* fitted */\n",
       "  background-color: var(--sklearn-color-fitted-level-0);\n",
       "}\n",
       "\n",
       "#sk-container-id-1 div.sk-toggleable__content pre {\n",
       "  margin: 0.2em;\n",
       "  border-radius: 0.25em;\n",
       "  color: var(--sklearn-color-text);\n",
       "  /* unfitted */\n",
       "  background-color: var(--sklearn-color-unfitted-level-0);\n",
       "}\n",
       "\n",
       "#sk-container-id-1 div.sk-toggleable__content.fitted pre {\n",
       "  /* unfitted */\n",
       "  background-color: var(--sklearn-color-fitted-level-0);\n",
       "}\n",
       "\n",
       "#sk-container-id-1 input.sk-toggleable__control:checked~div.sk-toggleable__content {\n",
       "  /* Expand drop-down */\n",
       "  max-height: 200px;\n",
       "  max-width: 100%;\n",
       "  overflow: auto;\n",
       "}\n",
       "\n",
       "#sk-container-id-1 input.sk-toggleable__control:checked~label.sk-toggleable__label-arrow:before {\n",
       "  content: \"▾\";\n",
       "}\n",
       "\n",
       "/* Pipeline/ColumnTransformer-specific style */\n",
       "\n",
       "#sk-container-id-1 div.sk-label input.sk-toggleable__control:checked~label.sk-toggleable__label {\n",
       "  color: var(--sklearn-color-text);\n",
       "  background-color: var(--sklearn-color-unfitted-level-2);\n",
       "}\n",
       "\n",
       "#sk-container-id-1 div.sk-label.fitted input.sk-toggleable__control:checked~label.sk-toggleable__label {\n",
       "  background-color: var(--sklearn-color-fitted-level-2);\n",
       "}\n",
       "\n",
       "/* Estimator-specific style */\n",
       "\n",
       "/* Colorize estimator box */\n",
       "#sk-container-id-1 div.sk-estimator input.sk-toggleable__control:checked~label.sk-toggleable__label {\n",
       "  /* unfitted */\n",
       "  background-color: var(--sklearn-color-unfitted-level-2);\n",
       "}\n",
       "\n",
       "#sk-container-id-1 div.sk-estimator.fitted input.sk-toggleable__control:checked~label.sk-toggleable__label {\n",
       "  /* fitted */\n",
       "  background-color: var(--sklearn-color-fitted-level-2);\n",
       "}\n",
       "\n",
       "#sk-container-id-1 div.sk-label label.sk-toggleable__label,\n",
       "#sk-container-id-1 div.sk-label label {\n",
       "  /* The background is the default theme color */\n",
       "  color: var(--sklearn-color-text-on-default-background);\n",
       "}\n",
       "\n",
       "/* On hover, darken the color of the background */\n",
       "#sk-container-id-1 div.sk-label:hover label.sk-toggleable__label {\n",
       "  color: var(--sklearn-color-text);\n",
       "  background-color: var(--sklearn-color-unfitted-level-2);\n",
       "}\n",
       "\n",
       "/* Label box, darken color on hover, fitted */\n",
       "#sk-container-id-1 div.sk-label.fitted:hover label.sk-toggleable__label.fitted {\n",
       "  color: var(--sklearn-color-text);\n",
       "  background-color: var(--sklearn-color-fitted-level-2);\n",
       "}\n",
       "\n",
       "/* Estimator label */\n",
       "\n",
       "#sk-container-id-1 div.sk-label label {\n",
       "  font-family: monospace;\n",
       "  font-weight: bold;\n",
       "  display: inline-block;\n",
       "  line-height: 1.2em;\n",
       "}\n",
       "\n",
       "#sk-container-id-1 div.sk-label-container {\n",
       "  text-align: center;\n",
       "}\n",
       "\n",
       "/* Estimator-specific */\n",
       "#sk-container-id-1 div.sk-estimator {\n",
       "  font-family: monospace;\n",
       "  border: 1px dotted var(--sklearn-color-border-box);\n",
       "  border-radius: 0.25em;\n",
       "  box-sizing: border-box;\n",
       "  margin-bottom: 0.5em;\n",
       "  /* unfitted */\n",
       "  background-color: var(--sklearn-color-unfitted-level-0);\n",
       "}\n",
       "\n",
       "#sk-container-id-1 div.sk-estimator.fitted {\n",
       "  /* fitted */\n",
       "  background-color: var(--sklearn-color-fitted-level-0);\n",
       "}\n",
       "\n",
       "/* on hover */\n",
       "#sk-container-id-1 div.sk-estimator:hover {\n",
       "  /* unfitted */\n",
       "  background-color: var(--sklearn-color-unfitted-level-2);\n",
       "}\n",
       "\n",
       "#sk-container-id-1 div.sk-estimator.fitted:hover {\n",
       "  /* fitted */\n",
       "  background-color: var(--sklearn-color-fitted-level-2);\n",
       "}\n",
       "\n",
       "/* Specification for estimator info (e.g. \"i\" and \"?\") */\n",
       "\n",
       "/* Common style for \"i\" and \"?\" */\n",
       "\n",
       ".sk-estimator-doc-link,\n",
       "a:link.sk-estimator-doc-link,\n",
       "a:visited.sk-estimator-doc-link {\n",
       "  float: right;\n",
       "  font-size: smaller;\n",
       "  line-height: 1em;\n",
       "  font-family: monospace;\n",
       "  background-color: var(--sklearn-color-background);\n",
       "  border-radius: 1em;\n",
       "  height: 1em;\n",
       "  width: 1em;\n",
       "  text-decoration: none !important;\n",
       "  margin-left: 1ex;\n",
       "  /* unfitted */\n",
       "  border: var(--sklearn-color-unfitted-level-1) 1pt solid;\n",
       "  color: var(--sklearn-color-unfitted-level-1);\n",
       "}\n",
       "\n",
       ".sk-estimator-doc-link.fitted,\n",
       "a:link.sk-estimator-doc-link.fitted,\n",
       "a:visited.sk-estimator-doc-link.fitted {\n",
       "  /* fitted */\n",
       "  border: var(--sklearn-color-fitted-level-1) 1pt solid;\n",
       "  color: var(--sklearn-color-fitted-level-1);\n",
       "}\n",
       "\n",
       "/* On hover */\n",
       "div.sk-estimator:hover .sk-estimator-doc-link:hover,\n",
       ".sk-estimator-doc-link:hover,\n",
       "div.sk-label-container:hover .sk-estimator-doc-link:hover,\n",
       ".sk-estimator-doc-link:hover {\n",
       "  /* unfitted */\n",
       "  background-color: var(--sklearn-color-unfitted-level-3);\n",
       "  color: var(--sklearn-color-background);\n",
       "  text-decoration: none;\n",
       "}\n",
       "\n",
       "div.sk-estimator.fitted:hover .sk-estimator-doc-link.fitted:hover,\n",
       ".sk-estimator-doc-link.fitted:hover,\n",
       "div.sk-label-container:hover .sk-estimator-doc-link.fitted:hover,\n",
       ".sk-estimator-doc-link.fitted:hover {\n",
       "  /* fitted */\n",
       "  background-color: var(--sklearn-color-fitted-level-3);\n",
       "  color: var(--sklearn-color-background);\n",
       "  text-decoration: none;\n",
       "}\n",
       "\n",
       "/* Span, style for the box shown on hovering the info icon */\n",
       ".sk-estimator-doc-link span {\n",
       "  display: none;\n",
       "  z-index: 9999;\n",
       "  position: relative;\n",
       "  font-weight: normal;\n",
       "  right: .2ex;\n",
       "  padding: .5ex;\n",
       "  margin: .5ex;\n",
       "  width: min-content;\n",
       "  min-width: 20ex;\n",
       "  max-width: 50ex;\n",
       "  color: var(--sklearn-color-text);\n",
       "  box-shadow: 2pt 2pt 4pt #999;\n",
       "  /* unfitted */\n",
       "  background: var(--sklearn-color-unfitted-level-0);\n",
       "  border: .5pt solid var(--sklearn-color-unfitted-level-3);\n",
       "}\n",
       "\n",
       ".sk-estimator-doc-link.fitted span {\n",
       "  /* fitted */\n",
       "  background: var(--sklearn-color-fitted-level-0);\n",
       "  border: var(--sklearn-color-fitted-level-3);\n",
       "}\n",
       "\n",
       ".sk-estimator-doc-link:hover span {\n",
       "  display: block;\n",
       "}\n",
       "\n",
       "/* \"?\"-specific style due to the `<a>` HTML tag */\n",
       "\n",
       "#sk-container-id-1 a.estimator_doc_link {\n",
       "  float: right;\n",
       "  font-size: 1rem;\n",
       "  line-height: 1em;\n",
       "  font-family: monospace;\n",
       "  background-color: var(--sklearn-color-background);\n",
       "  border-radius: 1rem;\n",
       "  height: 1rem;\n",
       "  width: 1rem;\n",
       "  text-decoration: none;\n",
       "  /* unfitted */\n",
       "  color: var(--sklearn-color-unfitted-level-1);\n",
       "  border: var(--sklearn-color-unfitted-level-1) 1pt solid;\n",
       "}\n",
       "\n",
       "#sk-container-id-1 a.estimator_doc_link.fitted {\n",
       "  /* fitted */\n",
       "  border: var(--sklearn-color-fitted-level-1) 1pt solid;\n",
       "  color: var(--sklearn-color-fitted-level-1);\n",
       "}\n",
       "\n",
       "/* On hover */\n",
       "#sk-container-id-1 a.estimator_doc_link:hover {\n",
       "  /* unfitted */\n",
       "  background-color: var(--sklearn-color-unfitted-level-3);\n",
       "  color: var(--sklearn-color-background);\n",
       "  text-decoration: none;\n",
       "}\n",
       "\n",
       "#sk-container-id-1 a.estimator_doc_link.fitted:hover {\n",
       "  /* fitted */\n",
       "  background-color: var(--sklearn-color-fitted-level-3);\n",
       "}\n",
       "</style><div id=\"sk-container-id-1\" class=\"sk-top-container\"><div class=\"sk-text-repr-fallback\"><pre>RandomizedSearchCV(cv=5,\n",
       "                   estimator=Pipeline(steps=[(&#x27;prepro&#x27;,\n",
       "                                              ColumnTransformer(transformers=[(&#x27;num&#x27;,\n",
       "                                                                               Pipeline(steps=[(&#x27;scaler&#x27;,\n",
       "                                                                                                StandardScaler())]),\n",
       "                                                                               [&#x27;Loan_Amount_Term&#x27;]),\n",
       "                                                                              (&#x27;cat&#x27;,\n",
       "                                                                               Pipeline(steps=[(&#x27;onehot&#x27;,\n",
       "                                                                                                OneHotEncoder(handle_unknown=&#x27;ignore&#x27;))]),\n",
       "                                                                               [&#x27;Married&#x27;,\n",
       "                                                                                &#x27;Credit_History&#x27;,\n",
       "                                                                                &#x27;Property_Area&#x27;])])),\n",
       "                                             (&#x27;clf&#x27;, SVC())]),\n",
       "                   n_iter=20,\n",
       "                   param_distributions={&#x27;clf__C&#x27;: [0.1, 1, 10],\n",
       "                                        &#x27;clf__gamma&#x27;: [&#x27;scale&#x27;, &#x27;auto&#x27;],\n",
       "                                        &#x27;clf__kernel&#x27;: [&#x27;linear&#x27;, &#x27;poly&#x27;, &#x27;rbf&#x27;,\n",
       "                                                        &#x27;sigmoid&#x27;]},\n",
       "                   random_state=3, scoring=&#x27;f1&#x27;)</pre><b>In a Jupyter environment, please rerun this cell to show the HTML representation or trust the notebook. <br />On GitHub, the HTML representation is unable to render, please try loading this page with nbviewer.org.</b></div><div class=\"sk-container\" hidden><div class=\"sk-item sk-dashed-wrapped\"><div class=\"sk-label-container\"><div class=\"sk-label fitted sk-toggleable\"><input class=\"sk-toggleable__control sk-hidden--visually\" id=\"sk-estimator-id-1\" type=\"checkbox\" ><label for=\"sk-estimator-id-1\" class=\"sk-toggleable__label fitted sk-toggleable__label-arrow fitted\">&nbsp;&nbsp;RandomizedSearchCV<a class=\"sk-estimator-doc-link fitted\" rel=\"noreferrer\" target=\"_blank\" href=\"https://scikit-learn.org/1.4/modules/generated/sklearn.model_selection.RandomizedSearchCV.html\">?<span>Documentation for RandomizedSearchCV</span></a><span class=\"sk-estimator-doc-link fitted\">i<span>Fitted</span></span></label><div class=\"sk-toggleable__content fitted\"><pre>RandomizedSearchCV(cv=5,\n",
       "                   estimator=Pipeline(steps=[(&#x27;prepro&#x27;,\n",
       "                                              ColumnTransformer(transformers=[(&#x27;num&#x27;,\n",
       "                                                                               Pipeline(steps=[(&#x27;scaler&#x27;,\n",
       "                                                                                                StandardScaler())]),\n",
       "                                                                               [&#x27;Loan_Amount_Term&#x27;]),\n",
       "                                                                              (&#x27;cat&#x27;,\n",
       "                                                                               Pipeline(steps=[(&#x27;onehot&#x27;,\n",
       "                                                                                                OneHotEncoder(handle_unknown=&#x27;ignore&#x27;))]),\n",
       "                                                                               [&#x27;Married&#x27;,\n",
       "                                                                                &#x27;Credit_History&#x27;,\n",
       "                                                                                &#x27;Property_Area&#x27;])])),\n",
       "                                             (&#x27;clf&#x27;, SVC())]),\n",
       "                   n_iter=20,\n",
       "                   param_distributions={&#x27;clf__C&#x27;: [0.1, 1, 10],\n",
       "                                        &#x27;clf__gamma&#x27;: [&#x27;scale&#x27;, &#x27;auto&#x27;],\n",
       "                                        &#x27;clf__kernel&#x27;: [&#x27;linear&#x27;, &#x27;poly&#x27;, &#x27;rbf&#x27;,\n",
       "                                                        &#x27;sigmoid&#x27;]},\n",
       "                   random_state=3, scoring=&#x27;f1&#x27;)</pre></div> </div></div><div class=\"sk-parallel\"><div class=\"sk-parallel-item\"><div class=\"sk-item\"><div class=\"sk-label-container\"><div class=\"sk-label fitted sk-toggleable\"><input class=\"sk-toggleable__control sk-hidden--visually\" id=\"sk-estimator-id-2\" type=\"checkbox\" ><label for=\"sk-estimator-id-2\" class=\"sk-toggleable__label fitted sk-toggleable__label-arrow fitted\">estimator: Pipeline</label><div class=\"sk-toggleable__content fitted\"><pre>Pipeline(steps=[(&#x27;prepro&#x27;,\n",
       "                 ColumnTransformer(transformers=[(&#x27;num&#x27;,\n",
       "                                                  Pipeline(steps=[(&#x27;scaler&#x27;,\n",
       "                                                                   StandardScaler())]),\n",
       "                                                  [&#x27;Loan_Amount_Term&#x27;]),\n",
       "                                                 (&#x27;cat&#x27;,\n",
       "                                                  Pipeline(steps=[(&#x27;onehot&#x27;,\n",
       "                                                                   OneHotEncoder(handle_unknown=&#x27;ignore&#x27;))]),\n",
       "                                                  [&#x27;Married&#x27;, &#x27;Credit_History&#x27;,\n",
       "                                                   &#x27;Property_Area&#x27;])])),\n",
       "                (&#x27;clf&#x27;, SVC())])</pre></div> </div></div><div class=\"sk-serial\"><div class=\"sk-item\"><div class=\"sk-serial\"><div class=\"sk-item sk-dashed-wrapped\"><div class=\"sk-label-container\"><div class=\"sk-label fitted sk-toggleable\"><input class=\"sk-toggleable__control sk-hidden--visually\" id=\"sk-estimator-id-3\" type=\"checkbox\" ><label for=\"sk-estimator-id-3\" class=\"sk-toggleable__label fitted sk-toggleable__label-arrow fitted\">&nbsp;prepro: ColumnTransformer<a class=\"sk-estimator-doc-link fitted\" rel=\"noreferrer\" target=\"_blank\" href=\"https://scikit-learn.org/1.4/modules/generated/sklearn.compose.ColumnTransformer.html\">?<span>Documentation for prepro: ColumnTransformer</span></a></label><div class=\"sk-toggleable__content fitted\"><pre>ColumnTransformer(transformers=[(&#x27;num&#x27;,\n",
       "                                 Pipeline(steps=[(&#x27;scaler&#x27;, StandardScaler())]),\n",
       "                                 [&#x27;Loan_Amount_Term&#x27;]),\n",
       "                                (&#x27;cat&#x27;,\n",
       "                                 Pipeline(steps=[(&#x27;onehot&#x27;,\n",
       "                                                  OneHotEncoder(handle_unknown=&#x27;ignore&#x27;))]),\n",
       "                                 [&#x27;Married&#x27;, &#x27;Credit_History&#x27;,\n",
       "                                  &#x27;Property_Area&#x27;])])</pre></div> </div></div><div class=\"sk-parallel\"><div class=\"sk-parallel-item\"><div class=\"sk-item\"><div class=\"sk-label-container\"><div class=\"sk-label fitted sk-toggleable\"><input class=\"sk-toggleable__control sk-hidden--visually\" id=\"sk-estimator-id-4\" type=\"checkbox\" ><label for=\"sk-estimator-id-4\" class=\"sk-toggleable__label fitted sk-toggleable__label-arrow fitted\">num</label><div class=\"sk-toggleable__content fitted\"><pre>[&#x27;Loan_Amount_Term&#x27;]</pre></div> </div></div><div class=\"sk-serial\"><div class=\"sk-item\"><div class=\"sk-serial\"><div class=\"sk-item\"><div class=\"sk-estimator fitted sk-toggleable\"><input class=\"sk-toggleable__control sk-hidden--visually\" id=\"sk-estimator-id-5\" type=\"checkbox\" ><label for=\"sk-estimator-id-5\" class=\"sk-toggleable__label fitted sk-toggleable__label-arrow fitted\">&nbsp;StandardScaler<a class=\"sk-estimator-doc-link fitted\" rel=\"noreferrer\" target=\"_blank\" href=\"https://scikit-learn.org/1.4/modules/generated/sklearn.preprocessing.StandardScaler.html\">?<span>Documentation for StandardScaler</span></a></label><div class=\"sk-toggleable__content fitted\"><pre>StandardScaler()</pre></div> </div></div></div></div></div></div></div><div class=\"sk-parallel-item\"><div class=\"sk-item\"><div class=\"sk-label-container\"><div class=\"sk-label fitted sk-toggleable\"><input class=\"sk-toggleable__control sk-hidden--visually\" id=\"sk-estimator-id-6\" type=\"checkbox\" ><label for=\"sk-estimator-id-6\" class=\"sk-toggleable__label fitted sk-toggleable__label-arrow fitted\">cat</label><div class=\"sk-toggleable__content fitted\"><pre>[&#x27;Married&#x27;, &#x27;Credit_History&#x27;, &#x27;Property_Area&#x27;]</pre></div> </div></div><div class=\"sk-serial\"><div class=\"sk-item\"><div class=\"sk-serial\"><div class=\"sk-item\"><div class=\"sk-estimator fitted sk-toggleable\"><input class=\"sk-toggleable__control sk-hidden--visually\" id=\"sk-estimator-id-7\" type=\"checkbox\" ><label for=\"sk-estimator-id-7\" class=\"sk-toggleable__label fitted sk-toggleable__label-arrow fitted\">&nbsp;OneHotEncoder<a class=\"sk-estimator-doc-link fitted\" rel=\"noreferrer\" target=\"_blank\" href=\"https://scikit-learn.org/1.4/modules/generated/sklearn.preprocessing.OneHotEncoder.html\">?<span>Documentation for OneHotEncoder</span></a></label><div class=\"sk-toggleable__content fitted\"><pre>OneHotEncoder(handle_unknown=&#x27;ignore&#x27;)</pre></div> </div></div></div></div></div></div></div></div></div><div class=\"sk-item\"><div class=\"sk-estimator fitted sk-toggleable\"><input class=\"sk-toggleable__control sk-hidden--visually\" id=\"sk-estimator-id-8\" type=\"checkbox\" ><label for=\"sk-estimator-id-8\" class=\"sk-toggleable__label fitted sk-toggleable__label-arrow fitted\">&nbsp;SVC<a class=\"sk-estimator-doc-link fitted\" rel=\"noreferrer\" target=\"_blank\" href=\"https://scikit-learn.org/1.4/modules/generated/sklearn.svm.SVC.html\">?<span>Documentation for SVC</span></a></label><div class=\"sk-toggleable__content fitted\"><pre>SVC()</pre></div> </div></div></div></div></div></div></div></div></div></div></div>"
      ],
      "text/plain": [
       "RandomizedSearchCV(cv=5,\n",
       "                   estimator=Pipeline(steps=[('prepro',\n",
       "                                              ColumnTransformer(transformers=[('num',\n",
       "                                                                               Pipeline(steps=[('scaler',\n",
       "                                                                                                StandardScaler())]),\n",
       "                                                                               ['Loan_Amount_Term']),\n",
       "                                                                              ('cat',\n",
       "                                                                               Pipeline(steps=[('onehot',\n",
       "                                                                                                OneHotEncoder(handle_unknown='ignore'))]),\n",
       "                                                                               ['Married',\n",
       "                                                                                'Credit_History',\n",
       "                                                                                'Property_Area'])])),\n",
       "                                             ('clf', SVC())]),\n",
       "                   n_iter=20,\n",
       "                   param_distributions={'clf__C': [0.1, 1, 10],\n",
       "                                        'clf__gamma': ['scale', 'auto'],\n",
       "                                        'clf__kernel': ['linear', 'poly', 'rbf',\n",
       "                                                        'sigmoid']},\n",
       "                   random_state=3, scoring='f1')"
      ]
     },
     "execution_count": 38,
     "metadata": {},
     "output_type": "execute_result"
    }
   ],
   "source": [
    "#Random search\n",
    "\n",
    "random_search_params = {\n",
    "    'clf__C':[0.1,1,10],\n",
    "    'clf__kernel':['linear','poly','rbf','sigmoid'],\n",
    "    'clf__gamma':['scale','auto']\n",
    "}\n",
    "\n",
    "model_svm_random = RandomizedSearchCV(estimator= pipe_svc,\n",
    "                                    param_distributions=random_search_params,\n",
    "                                    n_iter = 20,\n",
    "                                    cv = 5,\n",
    "                                    random_state=3,\n",
    "                                    scoring = 'f1')\n",
    "\n",
    "model_svm_random.fit(X_train, y_train)"
   ]
  },
  {
   "cell_type": "code",
   "execution_count": 39,
   "metadata": {},
   "outputs": [
    {
     "data": {
      "text/plain": [
       "{'clf__kernel': 'poly', 'clf__gamma': 'auto', 'clf__C': 10}"
      ]
     },
     "execution_count": 39,
     "metadata": {},
     "output_type": "execute_result"
    }
   ],
   "source": [
    "model_svm_random.best_params_"
   ]
  },
  {
   "cell_type": "code",
   "execution_count": 40,
   "metadata": {},
   "outputs": [
    {
     "name": "stdout",
     "output_type": "stream",
     "text": [
      "SVM - Random Search\n",
      "\n",
      "F1 Score - Test Set   :  0.8780487804878049 \n",
      "\n",
      "Classification Report : \n",
      "               precision    recall  f1-score   support\n",
      "\n",
      "           0       1.00      0.32      0.48        22\n",
      "           1       0.78      1.00      0.88        54\n",
      "\n",
      "    accuracy                           0.80        76\n",
      "   macro avg       0.89      0.66      0.68        76\n",
      "weighted avg       0.85      0.80      0.76        76\n",
      " \n",
      "\n",
      "Confusion Matrix      : \n",
      " <sklearn.metrics._plot.confusion_matrix.ConfusionMatrixDisplay object at 0x0000018745E86650>\n"
     ]
    },
    {
     "data": {
      "image/png": "[encoded data removed]",
      "text/plain": [
       "<Figure size 640x480 with 2 Axes>"
      ]
     },
     "metadata": {},
     "output_type": "display_data"
    }
   ],
   "source": [
    "# Check Performance Model against Test-Set\n",
    "\n",
    "y_pred_train_svm_random = model_svm_random.predict(X_train)\n",
    "y_pred_test_svm_random = model_svm_random.predict(X_test)\n",
    "\n",
    "print('SVM - Random Search\\n')\n",
    "print('F1 Score - Test Set   : ', f1_score(y_test, y_pred_test_svm_random), '\\n')\n",
    "print('Classification Report : \\n', classification_report(y_test, y_pred_test_svm_random), '\\n')\n",
    "print('Confusion Matrix      : \\n', ConfusionMatrixDisplay.from_estimator(model_svm_random, X_test, y_test))"
   ]
  },
  {
   "cell_type": "markdown",
   "metadata": {},
   "source": [
    "Berdasarkan informasi diatas, didapatkan accuracy test dalam model SVM sebesar 0.878. Kemudian jika dilihat dari Confusion Matrix Display, model berhasil memprediksi True Positive sebesar 54 dan True Negative sebesar 7. "
   ]
  },
  {
   "cell_type": "code",
   "execution_count": 41,
   "metadata": {},
   "outputs": [
    {
     "data": {
      "text/html": [
       "<div>\n",
       "<style scoped>\n",
       "    .dataframe tbody tr th:only-of-type {\n",
       "        vertical-align: middle;\n",
       "    }\n",
       "\n",
       "    .dataframe tbody tr th {\n",
       "        vertical-align: top;\n",
       "    }\n",
       "\n",
       "    .dataframe thead th {\n",
       "        text-align: right;\n",
       "    }\n",
       "</style>\n",
       "<table border=\"1\" class=\"dataframe\">\n",
       "  <thead>\n",
       "    <tr style=\"text-align: right;\">\n",
       "      <th></th>\n",
       "      <th>Baseline (SVM)</th>\n",
       "      <th>SVM - Random Search</th>\n",
       "    </tr>\n",
       "  </thead>\n",
       "  <tbody>\n",
       "    <tr>\n",
       "      <th>Train - F1 Score</th>\n",
       "      <td>0.914163</td>\n",
       "      <td>0.914163</td>\n",
       "    </tr>\n",
       "    <tr>\n",
       "      <th>Test - F1 Score</th>\n",
       "      <td>0.868852</td>\n",
       "      <td>0.878049</td>\n",
       "    </tr>\n",
       "  </tbody>\n",
       "</table>\n",
       "</div>"
      ],
      "text/plain": [
       "                  Baseline (SVM)  SVM - Random Search\n",
       "Train - F1 Score        0.914163             0.914163\n",
       "Test - F1 Score         0.868852             0.878049"
      ]
     },
     "execution_count": 41,
     "metadata": {},
     "output_type": "execute_result"
    }
   ],
   "source": [
    "report['SVM - Random Search'] = {\n",
    "    'Train - F1 Score':f1_score(y_train,y_pred_train_svm_random),\n",
    "    'Test - F1 Score':f1_score(y_test,y_pred_test_svm_random),\n",
    "    }\n",
    "report"
   ]
  },
  {
   "cell_type": "markdown",
   "metadata": {},
   "source": [
    "### Grid Search"
   ]
  },
  {
   "cell_type": "code",
   "execution_count": 42,
   "metadata": {},
   "outputs": [
    {
     "data": {
      "text/plain": [
       "{'clf__C': 10, 'clf__gamma': 'auto', 'clf__kernel': 'poly'}"
      ]
     },
     "execution_count": 42,
     "metadata": {},
     "output_type": "execute_result"
    }
   ],
   "source": [
    "grid_search_params = {\n",
    "    'clf__C': [model_svm_random.best_params_['clf__C'],\n",
    "            model_svm_random.best_params_['clf__C']+1,\n",
    "            model_svm_random.best_params_['clf__C']+2,\n",
    "            model_svm_random.best_params_['clf__C']+3],\n",
    "    'clf__kernel':[model_svm_random.best_params_['clf__kernel']],\n",
    "    'clf__gamma':[model_svm_random.best_params_['clf__gamma']]\n",
    "}\n",
    "\n",
    "model_svm_grid = GridSearchCV(estimator = pipe_svc,\n",
    "                              param_grid= grid_search_params,\n",
    "                              cv=5,\n",
    "                              scoring= 'f1')\n",
    "model_svm_grid.fit(X_train, y_train)\n",
    "\n",
    "model_svm_grid.best_params_"
   ]
  },
  {
   "cell_type": "code",
   "execution_count": 43,
   "metadata": {},
   "outputs": [
    {
     "name": "stdout",
     "output_type": "stream",
     "text": [
      "SVM - Grid Search\n",
      "\n",
      "F1 Score - Test Set   :  0.8780487804878049 \n",
      "\n",
      "Classification Report : \n",
      "               precision    recall  f1-score   support\n",
      "\n",
      "           0       1.00      0.32      0.48        22\n",
      "           1       0.78      1.00      0.88        54\n",
      "\n",
      "    accuracy                           0.80        76\n",
      "   macro avg       0.89      0.66      0.68        76\n",
      "weighted avg       0.85      0.80      0.76        76\n",
      " \n",
      "\n",
      "Confusion Matrix      : \n",
      " <sklearn.metrics._plot.confusion_matrix.ConfusionMatrixDisplay object at 0x000001874595F490>\n"
     ]
    },
    {
     "data": {
      "image/png": "[encoded data removed]",
      "text/plain": [
       "<Figure size 640x480 with 2 Axes>"
      ]
     },
     "metadata": {},
     "output_type": "display_data"
    }
   ],
   "source": [
    "# Check Performance Model against Test-Set\n",
    "\n",
    "y_pred_train_svm_grid = model_svm_grid.predict(X_train)\n",
    "y_pred_test_svm_grid = model_svm_grid.predict(X_test)\n",
    "\n",
    "print('SVM - Grid Search\\n')\n",
    "print('F1 Score - Test Set   : ', f1_score(y_test, y_pred_test_svm_grid), '\\n')\n",
    "print('Classification Report : \\n', classification_report(y_test, y_pred_test_svm_grid), '\\n')\n",
    "print('Confusion Matrix      : \\n', ConfusionMatrixDisplay.from_estimator(model_svm_grid, X_test, y_test))"
   ]
  },
  {
   "cell_type": "markdown",
   "metadata": {},
   "source": [
    "Berdasarkan informasi diatas, didapatkan accuracy test dalam model SVM sebesar 0.878. Kemudian jika dilihat dari Confusion Matrix Display, model berhasil memprediksi True Positive sebesar 54 dan True Negative sebesar 7. "
   ]
  },
  {
   "cell_type": "code",
   "execution_count": 44,
   "metadata": {},
   "outputs": [
    {
     "data": {
      "text/html": [
       "<div>\n",
       "<style scoped>\n",
       "    .dataframe tbody tr th:only-of-type {\n",
       "        vertical-align: middle;\n",
       "    }\n",
       "\n",
       "    .dataframe tbody tr th {\n",
       "        vertical-align: top;\n",
       "    }\n",
       "\n",
       "    .dataframe thead th {\n",
       "        text-align: right;\n",
       "    }\n",
       "</style>\n",
       "<table border=\"1\" class=\"dataframe\">\n",
       "  <thead>\n",
       "    <tr style=\"text-align: right;\">\n",
       "      <th></th>\n",
       "      <th>Baseline (SVM)</th>\n",
       "      <th>SVM - Random Search</th>\n",
       "      <th>SVM - Grid Search</th>\n",
       "    </tr>\n",
       "  </thead>\n",
       "  <tbody>\n",
       "    <tr>\n",
       "      <th>Train - F1 Score</th>\n",
       "      <td>0.914163</td>\n",
       "      <td>0.914163</td>\n",
       "      <td>0.914163</td>\n",
       "    </tr>\n",
       "    <tr>\n",
       "      <th>Test - F1 Score</th>\n",
       "      <td>0.868852</td>\n",
       "      <td>0.878049</td>\n",
       "      <td>0.878049</td>\n",
       "    </tr>\n",
       "  </tbody>\n",
       "</table>\n",
       "</div>"
      ],
      "text/plain": [
       "                  Baseline (SVM)  SVM - Random Search  SVM - Grid Search\n",
       "Train - F1 Score        0.914163             0.914163           0.914163\n",
       "Test - F1 Score         0.868852             0.878049           0.878049"
      ]
     },
     "execution_count": 44,
     "metadata": {},
     "output_type": "execute_result"
    }
   ],
   "source": [
    "report['SVM - Grid Search'] = {\n",
    "    'Train - F1 Score':f1_score(y_train,y_pred_train_svm_grid),\n",
    "    'Test - F1 Score':f1_score(y_test,y_pred_test_svm_grid),\n",
    "    }\n",
    "report"
   ]
  },
  {
   "cell_type": "markdown",
   "metadata": {},
   "source": [
    "# Model Saving"
   ]
  },
  {
   "cell_type": "code",
   "execution_count": 45,
   "metadata": {},
   "outputs": [],
   "source": [
    "# Save the files!\n",
    "with open('model_svm.pkl', 'wb') as file_1: \n",
    "  pickle.dump(model_svm_grid, file_1)\n",
    "\n",
    "# with open('model_scaler.pkl', 'wb') as file_2:\n",
    "#   pickle.dump(numeric_transformer, file_2)\n",
    "\n",
    "# with open('model_encoding.pkl', 'wb') as file_3:\n",
    "#   pickle.dump(categorical_transformer, file_3)\n",
    "\n",
    "# with open('num_col.pkl', 'wb') as file_4:\n",
    "#   pickle.dump(numeric_features, file_4)\n",
    "\n",
    "# with open('cat_col.pkl', 'wb') as file_5:\n",
    "#   pickle.dump(categorical_features, file_5)\n",
    "\n",
    "# with open('pipe_svc.pkl', 'wb') as file_6:\n",
    "#   pickle.dump(pipe_svc, file_6)\n"
   ]
  },
  {
   "cell_type": "markdown",
   "metadata": {},
   "source": [
    "# Conceptual Problem\n",
    "\n",
    "\n",
    "1. Latar Belakang Bagging dan Cara Kerjanya:\n",
    "    Bagging atau Bootstrap Aggregating adalah teknik ensemble yang digunakan dalam pembelajaran mesin untuk meningkatkan kinerja model prediksi. Ide utama di balik bagging adalah menghasilkan beberapa model prediksi yang kemudian digabungkan untuk menghasilkan prediksi akhir yang lebih baik secara keseluruhan. Cara kerjanya adalah dengan membuat beberapa subset (sampel acak dengan penggantian) dari data pelatihan dan melatih model prediksi pada setiap subset tersebut secara independen. Kemudian, prediksi dari setiap model digabungkan (misalnya, dengan mengambil rata-rata atau mayoritas) untuk menghasilkan prediksi akhir. Bagging efektif dalam mengurangi varians dan mencegah overfitting.\n",
    "\n",
    "2. Perbedaan Cara Kerja Random Forest dengan Boosting\n",
    "\n",
    "    - Random Forest: Random Forest adalah algoritma ensemble yang menggunakan konsep bagging dengan pohon keputusan sebagai model dasarnya. Random Forest membuat beberapa pohon keputusan secara independen dengan menggunakan subset acak dari fitur dan data pelatihan. Setiap pohon dalam Random Forest diberi bobot yang sama dan prediksi akhirnya diambil dengan mengambil rata-rata dari prediksi semua pohon.\n",
    "\n",
    "    - Boosting: Algoritma boosting, seperti Gradient Boosting atau AdaBoost, bekerja dengan membuat serangkaian model prediksi yang saling bergantung secara adaptif. Proses ini dimulai dengan model lemah dan secara berurutan menambahkan model berikutnya untuk memperbaiki kesalahan prediksi model sebelumnya. Model-model yang dihasilkan memiliki bobot yang berbeda-beda, dengan bobot yang lebih tinggi diberikan pada model yang lebih baik dalam memprediksi instance yang sulit.\n",
    "\n",
    "3. Cross Validation :\n",
    "    Cross Validation adalah metode statistik yang digunakan untuk mengevaluasi kinerja model prediksi dengan menggunakan set data yang terbatas. Tujuannya adalah untuk mengukur seberapa baik model akan berperforma pada data yang tidak pernah dilihat sebelumnya. Cara kerjanya adalah dengan membagi data menjadi subset pelatihan dan pengujian, lalu melatih model pada subset pelatihan dan menguji kinerjanya pada subset pengujian. Proses ini dilakukan secara berulang dengan membagi ulang data dengan cara yang berbeda-beda, dan hasil pengujian dikombinasikan untuk memberikan perkiraan akhir tentang kinerja model. Metode cross-validation membantu menghindari overfitting dan memberikan perkiraan yang lebih konsisten tentang kinerja model."
   ]
  },
  {
   "cell_type": "markdown",
   "metadata": {},
   "source": [
    "# Kesimpulan"
   ]
  },
  {
   "cell_type": "markdown",
   "metadata": {},
   "source": [
    "**Eksplorasi Data**\n",
    "\n",
    "1. Laki-laki lebih banyak mengajukan peminjaman ke bank dibandingkan dengan perempuan dan mayoritas sudah menikah, hal ini dapat diasumsikan bahwa pengeluaran dan kebutuhan orang yang sudah menikah lebih besar dibandingkan dengan yang belum menikah serta laki laki yang sudah memiliki tanggung jawab untuk membiayai semua kebutuhan keluarga dan rumah tangga.\n",
    "2. Nasabah yang sudah lulus pinjaman yang disetujui bank lebih banyak daripada yang belum lulus, hal ini dikarenakan nasabah yang sudah lulus biasa sudah memiliki pekerjaan dan penghasilan serta dapat membayar cicilan sendiri sedangkan nasabah yang belum lulus biasanya belum memiliki penghasilan dan cicilannya dibayarkan oleh walinya. Kemungkinan hal hal tersebut yang menjadi faktor bank menyetujui peminjaman\n",
    "4. Nasabah yang bekerja sendiri(wirausaha) membayar pinjaman lebih sedikit daripada yang tidak(karyawan), kemungkinan nasabah yang berwirausaha melakukan pinjaman dengan memakai nama usaha atau perusahaan mereka sendiri bukan memakai nama pribadi.\n",
    "5. Pinjaman jangka panjang lebih mungkin untuk diterima daripada pinjaman jangka pendek, hal ini dikarenakan pinjaman jangka pendek kemungkinan cicilan terselesaikan lebih tinggi daripada pinjaman jangka panjang\n",
    "6. Nasabah dengan Riwayat Kredit yang lebih baik cenderung diterima peminjamannya dibanding dengan nasabah yang memiliki Riwayat Kredit yang buruk, kemungkinan nasabah dengan riwayat buruk ini sering terlambat membayar cicilan atau bahkan tidak menyelesaikan cicilan pada peminjaman sebelumnya yang mengakibatkan bank enggan untuk menyetujui peminjamannya\n",
    "7. Nasabah dari wilayah semi urban lebih mungkin diterima pinjamannya dibandingkan Nasabah dari wilayah urban dan Nasabah dari wilayah rural\n",
    "8. Nasabah yang tidak memiliki tanggungan lebih mungkin diterima pinjamannya dibanding nasabah dengan 2 Tanggungan, nasabah dengan 1 Tanggungan dan 3+ Tanggungan\n",
    "\n",
    "**Modeling**\n",
    "1. Hasil dari Cross-validation menentukan SVM sebagai algoritma terbaik untuk dilakukan modeling.\n",
    "2. Model SVM memiliki kelebihan untuk melakukan handling fitur dalam jumlah yang banyak. Namun, kelemahan pada model SVM ini adalah sensitif dengan outlier dan di model ini tidak di-handle outlier karena bersifat natural.\n",
    "3. Hyperparameter tuning terbukti mampu mengoptimalkan performa model, pada model yang telah dibuat terjadi peningkatan performa sekitar 0.01%.\n",
    "4. Model SVM dengan Grid Search dan Random Search mendapatkan hasil yang lebih baik pada train dan test dalam model jika dibandingkan dengan SVM baseline.\n",
    "5. Accuracy model sudah cukup baik dalam melakukan prediksi klasifikasi atau fit, yang dapat dilihat dari hasil accuracy train sebesar 90% dan test sebesar 87%. Walaupun model dianggap overfit tapi masih dibawah 5% dan masih dapat diterima \n",
    "\n",
    "**Further Improvement**\n",
    "1. Pada proses modeling selanjutnya disarankan untuk dilakukan dengan jumlah data yang lebih banyak agar proses training pada model lebih akurat.\n",
    "2. Melakukan penambahan atau pengurangan fitur pada Feature Engineering.\n",
    "3. Dapat melakukan eksplorasi lain menggunakan model lainnya seperti Random Forest, KNN, dan lain-lain walaupun SVM sudah memberikan peforma yang baik.\n",
    "\n"
   ]
  }
 ],
 "metadata": {
  "kernelspec": {
   "display_name": "base",
   "language": "python",
   "name": "python3"
  },
  "language_info": {
   "codemirror_mode": {
    "name": "ipython",
    "version": 3
   },
   "file_extension": ".py",
   "mimetype": "text/x-python",
   "name": "python",
   "nbconvert_exporter": "python",
   "pygments_lexer": "ipython3",
   "version": "3.11.5"
  }
 },
 "nbformat": 4,
 "nbformat_minor": 2
}
